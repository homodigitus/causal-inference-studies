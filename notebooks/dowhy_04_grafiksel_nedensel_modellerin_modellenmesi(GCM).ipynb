{
 "cells": [
  {
   "cell_type": "markdown",
   "metadata": {},
   "source": [
    "# Grafiksel Nedensel Modellerin (GCMs) Modellenmesi"
   ]
  },
  {
   "cell_type": "markdown",
   "metadata": {},
   "source": [
    "Kök neden analizi (root cause analysis) veya kenarların nedensel gücünü ölçmek gibi grafiksel nedensel modellere dayalı nedensel görevleri gerçekleştirmek için, değişkenlerin altında yatan veri oluşturma sürecinin doğasını da bilmemiz gerekir. Nedensel bir grafik, kendi başına bir diyagram olduğundan, veri üretme süreci hakkında herhangi bir bilgiye sahip değildir."
   ]
  },
  {
   "cell_type": "markdown",
   "metadata": {},
   "source": [
    "DoWhy'daki GCM tabanlı çıkarımın tüm ana özellikleri, **grafiksel nedensel modeller** kavramı etrafında inşa edilmiştir. Grafiksel bir nedensel model, değişkenlerin nedensel yönlendirilmiş döngüsel olmayan(acyclic) grafiğinden (DAG) ve değişkenlerin her biri için bir **nedensel mekanizmadan** oluşur. Nedensel bir mekanizma, grafikte ebeveynleri verilen bir değişkenin koşullu dağılımını veya kök düğüm değişkenleri durumunda basitçe dağılımını tanımlar. Kök olmayan düğümler için, $X_i$ düğümünü $X_i=f\\left(P A_{X_i}, N_i\\right)$ olarak tanımlayabiliriz. Burada $P A_{X_i}$, $X_i$'nin ebeveynlerini ve $N_i$ ise gürültüyü temsil eder."
   ]
  },
  {
   "cell_type": "markdown",
   "metadata": {},
   "source": [
    "GCM'nin en genel durumu, nedensel mekanizmaların koşullu stokastik modeller ve stokastik modeller tarafından tanımlandığı **olasılıksal bir nedensel modeldir (probabilistic causal model-PCM)**. dowhy.gcm paketinde bunlar ProbabilisticCausalModel, ConditionalStochasticModel ve StochasticModel ile temsil edilir."
   ]
  },
  {
   "cell_type": "markdown",
   "metadata": {},
   "source": [
    "![PCM](../img/pcm.png)"
   ]
  },
  {
   "cell_type": "markdown",
   "metadata": {},
   "source": [
    "Ancak pratik anlamda, GCM'lerimizi temsil etmek için sıklıkla tersine çevrilebilir **yapısal nedensel modeller (structural causal model-SCM'ler)** kullanırız ve nedensel mekanizmalar, kök olmayan düğümler için **fonksiyonel nedensel modeller (functional causal model-FCM'ler)** ve kök düğümler için stokastik modeller tarafından tanımlanır. Tersine çevrilebilir bir SCM, bir PCM ile aynı özellikleri uygular, ancak bunun da ötesinde, FCM'leri, ebeveynlere ve gürültüye dayalı olarak veri oluşturma süreci hakkında daha fazla mantık yürütmemize olanak tanır ve dolayısıyla, örn. karşı-olgusalları hesaplamak için. Grafik türleri ve bunların etkileri hakkında daha fazla ayrıntı için Grafiksel nedensel model türleri bölümüne bakın."
   ]
  },
  {
   "cell_type": "markdown",
   "metadata": {},
   "source": [
    "![SCM](../img/scm.png)"
   ]
  },
  {
   "cell_type": "markdown",
   "metadata": {},
   "source": [
    "Bu girişi basit tutmak için şimdilik SCM'leri kullanmaya devam edeceğiz.\n",
    "\n",
    "Yukarıda belirtildiği gibi nedensel bir mekanizma, bir düğümün değerlerinin, ana düğümlerinin değerlerinden nasıl etkilendiğini açıklar. Nedensel Mekanizma Atamasını Özelleştirme bölümünde nedensel mekanizmaların ayrıntılarına ve anlamlarına çok daha derinlemesine bakacağız. Ancak bu girişte, bunları nedensel soruları yanıtlamak için gerekli olan, anlaşılmaz bir şey olarak ele alacağız.\n",
    "\n",
    "Bu veri oluşturma sürecini tanıtmak için nedensel grafiğimizin üzerine inşa edilmiş bir SCM kullanıyoruz:"
   ]
  },
  {
   "cell_type": "code",
   "execution_count": 1,
   "metadata": {},
   "outputs": [],
   "source": [
    "import warnings\n",
    "warnings.filterwarnings('ignore')\n",
    "\n",
    "import numpy as np\n",
    "import pandas as pd\n",
    "\n",
    "from dowhy import gcm\n",
    "import networkx as nx"
   ]
  },
  {
   "cell_type": "code",
   "execution_count": 2,
   "metadata": {},
   "outputs": [],
   "source": [
    "causal_model = gcm.StructuralCausalModel(nx.DiGraph([(\"X\", \"Y\"), (\"Y\", \"Z\")]))"
   ]
  },
  {
   "cell_type": "code",
   "execution_count": 3,
   "metadata": {},
   "outputs": [
    {
     "data": {
      "text/html": [
       "<div>\n",
       "<style scoped>\n",
       "    .dataframe tbody tr th:only-of-type {\n",
       "        vertical-align: middle;\n",
       "    }\n",
       "\n",
       "    .dataframe tbody tr th {\n",
       "        vertical-align: top;\n",
       "    }\n",
       "\n",
       "    .dataframe thead th {\n",
       "        text-align: right;\n",
       "    }\n",
       "</style>\n",
       "<table border=\"1\" class=\"dataframe\">\n",
       "  <thead>\n",
       "    <tr style=\"text-align: right;\">\n",
       "      <th></th>\n",
       "      <th>X</th>\n",
       "      <th>Y</th>\n",
       "      <th>Z</th>\n",
       "    </tr>\n",
       "  </thead>\n",
       "  <tbody>\n",
       "    <tr>\n",
       "      <th>0</th>\n",
       "      <td>-1.468369</td>\n",
       "      <td>-2.668025</td>\n",
       "      <td>-8.595260</td>\n",
       "    </tr>\n",
       "    <tr>\n",
       "      <th>1</th>\n",
       "      <td>-0.730116</td>\n",
       "      <td>-2.725460</td>\n",
       "      <td>-9.089786</td>\n",
       "    </tr>\n",
       "    <tr>\n",
       "      <th>2</th>\n",
       "      <td>-0.492433</td>\n",
       "      <td>-0.914354</td>\n",
       "      <td>-2.888134</td>\n",
       "    </tr>\n",
       "    <tr>\n",
       "      <th>3</th>\n",
       "      <td>-1.604451</td>\n",
       "      <td>-3.413145</td>\n",
       "      <td>-9.215725</td>\n",
       "    </tr>\n",
       "    <tr>\n",
       "      <th>4</th>\n",
       "      <td>-0.885224</td>\n",
       "      <td>-1.244847</td>\n",
       "      <td>-2.415860</td>\n",
       "    </tr>\n",
       "  </tbody>\n",
       "</table>\n",
       "</div>"
      ],
      "text/plain": [
       "          X         Y         Z\n",
       "0 -1.468369 -2.668025 -8.595260\n",
       "1 -0.730116 -2.725460 -9.089786\n",
       "2 -0.492433 -0.914354 -2.888134\n",
       "3 -1.604451 -3.413145 -9.215725\n",
       "4 -0.885224 -1.244847 -2.415860"
      ]
     },
     "execution_count": 3,
     "metadata": {},
     "output_type": "execute_result"
    }
   ],
   "source": [
    "X = np.random.normal(loc=0, scale=1, size=1000)\n",
    "Y = 2 * X + np.random.normal(loc=0, scale=1, size=1000)\n",
    "Z = 3 * Y + np.random.normal(loc=0, scale=1, size=1000)\n",
    "data = pd.DataFrame(data=dict(X=X, Y=Y, Z=Z))\n",
    "data.head()"
   ]
  },
  {
   "cell_type": "markdown",
   "metadata": {},
   "source": [
    "Yukarıda oluşturulan grafikte X, Y, Z sütunlarının X, Y, Z düğümlerimize nasıl karşılık geldiğine dikkat edin. Ayrıca bu veri setinde X değerlerinin Y değerlerini nasıl etkilediğini ve Y değerlerinin Z değerlerini nasıl etkilediğini de görebiliriz.\n",
    "\n",
    "Yukarıda oluşturulan nedensel model, artık her düğüme nedensel mekanizmaları işlevsel nedensel modeller biçiminde atamamıza olanak tanır. Burada bu mekanizmalar, örneğin belirli nedensel ilişkiler hakkında önceden bilgi biliniyorsa manuel olarak atanabilir veya otomatik modül kullanılarak otomatik olarak atanabilir. İkincisi için basitçe şunu çağırırız:"
   ]
  },
  {
   "cell_type": "code",
   "execution_count": 4,
   "metadata": {},
   "outputs": [
    {
     "data": {
      "text/plain": [
       "<dowhy.gcm.auto.AutoAssignmentSummary at 0x1b8f88ef510>"
      ]
     },
     "execution_count": 4,
     "metadata": {},
     "output_type": "execute_result"
    }
   ],
   "source": [
    "gcm.auto.assign_causal_mechanisms(causal_model, data)"
   ]
  },
  {
   "cell_type": "markdown",
   "metadata": {},
   "source": [
    "Atanan mekanizmalar üzerinde daha fazla kontrol sahibi olmak istersek bunu manuel olarak da yapabiliriz. Örneğin, X kök düğümüne ampirik bir dağılım ve Y ve Z düğümlerine doğrusal toplamsal gürültü modelleri atayabiliriz:"
   ]
  },
  {
   "cell_type": "code",
   "execution_count": 5,
   "metadata": {},
   "outputs": [],
   "source": [
    "causal_model.set_causal_mechanism('X', gcm.EmpiricalDistribution())\n",
    "causal_model.set_causal_mechanism('Y', gcm.AdditiveNoiseModel(gcm.ml.create_linear_regressor()))\n",
    "causal_model.set_causal_mechanism('Z', gcm.AdditiveNoiseModel(gcm.ml.create_linear_regressor()))"
   ]
  },
  {
   "cell_type": "markdown",
   "metadata": {},
   "source": [
    "Nedensel Mekanizma Atamasını Özelleştirme Bölümü, kişinin tamamen özelleştirilmiş bir modeli nasıl tanımlayabileceği veya kendi uygulamasını nasıl ekleyebileceği konusunda daha ayrıntılı bilgi verecektir.\n",
    "\n",
    "Gerçek dünyada veriler, bir değişkenin diğerini nasıl etkilediğini genellikle bilmediğimiz, opak bir değerler akışı olarak gelir. Grafiksel nedensel modeller, daha önce bilmiyor olsak bile, bu nedensel ilişkileri yeniden yapılandırmamıza yardımcı olabilir."
   ]
  },
  {
   "cell_type": "markdown",
   "metadata": {},
   "source": [
    "### SCM'in Veriye Uydurulması"
   ]
  },
  {
   "cell_type": "markdown",
   "metadata": {},
   "source": [
    "Eldeki veriler ve daha önce oluşturulan grafikle artık SCM'yi uydurab\n",
    "liriz:"
   ]
  },
  {
   "cell_type": "code",
   "execution_count": 6,
   "metadata": {},
   "outputs": [
    {
     "name": "stderr",
     "output_type": "stream",
     "text": [
      "Fitting causal mechanism of node Z: 100%|██████████| 3/3 [00:00<00:00, 214.29it/s]\n"
     ]
    }
   ],
   "source": [
    "gcm.fit(causal_model, data)"
   ]
  },
  {
   "cell_type": "markdown",
   "metadata": {},
   "source": [
    "Uydurma, SCM'deki değişkenlerin verilere göre üretken modellerini öğrenmemiz anlamına gelir.\n",
    "\n",
    "Nedensel model artık Nedensel Görevlerin Gerçekleştirilmesi için kullanılmaya hazırdır."
   ]
  },
  {
   "cell_type": "markdown",
   "metadata": {},
   "source": [
    "# 1.Grafiksel Nedensel Model Türleri"
   ]
  },
  {
   "cell_type": "markdown",
   "metadata": {},
   "source": [
    "Grafiksel bir nedensel model (GCM), her düğümün (koşullu) dağılımını tanımlayan nedensel ilişkilerin (örneğin, $X \\rightarrow Y$) ve nedensel mekanizmaların (örneğin, $P(Y \\mid X)$) grafiksel bir yapısını içerir. Başka bir deyişle, bir GCM gerçek veri üretim sürecini temsil etmeyi amaçlamaktadır. Belirli bir $X_0, \\ldots, X_n$ değişken kümesi için bir GCM, olarak çarpanlara ayrılabilen ortak dağılımı modeller $P\\left(X_0, \\ldots, X_n\\right)=\\prod_i P\\left(X_i \\mid PA_i\\right)$ burada $P A_i$, $X_i$ öğesinin ebeveynleridir; bu, kök düğümler durumunda boş bir küme olabilir. $P\\left(X_i \\mid P A_i\\right)$ nedensel mekanizması, nedensel soruların türüne bağlı olarak ek kısıtlamalar gerektirebilir."
   ]
  },
  {
   "cell_type": "markdown",
   "metadata": {},
   "source": [
    "Pearl nedensellik merdiveninde üç seviye tanımlar:\n",
    "\n",
    "1. **İlişkilendirme (association)**: $P\\left(X_0, \\ldots, X_n\\right)$ gözlemsel verileri kullanarak değerlendirme ve mantık yürütme. Bu seviye, yapay öğrenme tahmin problemleri için yaygındır.\n",
    "2. **Müdahale (intervention)**: Müdahaleleri uygulama ve nedensel etkileri tahmin etme. Bu seviye en çok $P(Y \\mid d o(X=\\ldots))$ biçiminde müdahalesel dağılımlar elde ettiğimiz nedensel etki tahmin problemleriyle ilgilidir.\n",
    "3. **Karşı-Olgusallar (counterfactuals)**: Gözlemlenen olayların karşı olgusal sonuçlarını tahmin etme. Müdahaleler ve karşı olgusallar arasındaki temel fark, müdahalelerin \"X'i değiştirirsek ne olacak?\" gibi \"ileriye dönük\" sorulara odaklanırken, karşı olgusalların \"Farklı bir X değeri alsaydık gözlemimiz nasıl olurdu?” gibi gerçek gözlemlenen olaydan sapan varsayımsal senaryoları incelemesidir."
   ]
  },
  {
   "cell_type": "markdown",
   "metadata": {},
   "source": [
    "Pearl'ün çerçevesindeki karşı olgusalları tahmin etmek, müdahaleleri tahmin etmek için gerekenlere kıyasla nedensel mekanizmalar hakkında daha güçlü varsayımlar gerektirir. DoWhy, değişen derecelerde nedensel mekanizma esnekliğine sahip üç farklı sınıf sunar:\n",
    "\n",
    "1. **Olasılıksal Nedensel Model (PCM)**: Bir PCM, yalnızca bir düğümün ebeveynlerine göre koşullandırılmış örneklerin oluşturulmasını gerektirdiğinden, nedensel mekanizmaların modellenmesinde en büyük esnekliği sağlar. Çok çeşitli Bayes modelleri gibi koşullu dağılımları idare edebilen herhangi bir model kullanılabilir. Bu sınıf 1. ve 2. basamakları modelleme yeteneğine sahiptir.\n",
    "2. **Yapısal Nedensel Model (SCM)**: Bir SCM, mekanizmaları $X_i=f_i\\left(P A_i, N_i\\right)$ olarak temsil edilen, ebeveynlerin ve gözlemlenmeyen gürültünün deterministik fonksiyonel nedensel modeli (FCM) ile sınırlar; burada $N_i$, gözlemlenmeyen gürültüyü belirtir. FCM'yi yerleştirirken modelin, $N_i$'nin gözlemlenmediği ancak sağlandığında girdi olarak kullanılabileceği varsayımını hesaba katabilmesi gerekir. Bir SCM genellikle basamak 1 ve 2'nin modellenmesine izin verir, ancak basamak 3'ü modellemek için FCM'de ek kısıtlamalar gereklidir.\n",
    "3. **Ters Çevrilebilir Yapısal Nedensel Model (ISCM)**: Bir ISCM, ayrıca düğümlerin temel FCM'lerinin gürültüye göre ters çevrilebilir olmasını gerektiren bir SCM'dir; bu, gürültünün gözlemlenen verilerden yeniden oluşturulabileceği anlamına gelir. Bu ek kısıtlama model esnekliğini azaltır ancak modelleme basamağı 3 için gereklidir. Tersine çevrilebilir modellerle (örneğe özgü) karşı olgusal soruları ele alabiliriz. Sürekli değişkenler için ters çevrilebilir bir FCM'nin tipik bir örneği, $X_i=f_i\\left(PA_i, N_i\\right)=f_i^{\\prime}\\left(P A_i\\right) biçimindeki bir toplamsal gürültü modelidir (ANM) +N_i$, standart regresyon modelleri kullanılarak öğrenilebilir. Gürültü artık basit bir kalıntı haline gelir."
   ]
  },
  {
   "cell_type": "markdown",
   "metadata": {},
   "source": [
    "Treatment effect tahmini gibi nedensel problemler için modelleme basamağı 2 yeterlidir. Öte yandan “X düğümü farklı davransaydı hedef aykırı değer olur muydu?” sorusunu sorarak kök nedenleri belirlemek için 3. basamak gereklidir. Aşağıda, kullanıma hazır olarak desteklenen mevcut nedensel mekanizma türlerine genel bir bakış sunulmaktadır."
   ]
  },
  {
   "cell_type": "markdown",
   "metadata": {},
   "source": [
    "## Paketteki Nedensel Mekanizma Türleri"
   ]
  },
  {
   "cell_type": "markdown",
   "metadata": {},
   "source": [
    "Yukarıdaki nedensel model türlerinden herhangi biri için kullanılabilecek nedensel mekanizmaları desteklemek amacıyla, nedensel bir mekanizmanın uygulaması gereken basit arayüzlere sahiptir. Örneğin, bir PCM'de nedensel bir mekanizma kullanmak için yalnızca ana düğümlerden örnekler bekleyen ve koşullu dağılımdan örnekler döndüren bir yöntemin uygulanması gerekir. Bu hafif arayüzlere sahip olmak, farklı kullanım durumları için kendi ve özelleştirilmiş nedensel mekanizma türlerinizi kolayca kullanmanıza olanak tanır. Bununla birlikte, DoWhy'ın farklı türdeki verileri desteklemek üzere yerel olarak uygulanan, özellikle fonksiyonel nedensel modeller olmak üzere farklı türde mekanizmaları da vardır:"
   ]
  },
  {
   "cell_type": "markdown",
   "metadata": {},
   "source": [
    "* **Toplamsal Gürültü Modelleri (Additive Noise Models-ANM)**: ANM'ler, bir düğümün ebeveynlerine bağlı olarak bir düğümün değerini belirleyen bir fonksiyonu ve bir gürültü bileşenini içerir. Örneğin, $X_i=f_i\\left(P A_i\\right)+N_i$ biçiminde bir ANM, $X_i$'nin $f_i$ fonksiyonu ve $N_i$ gürültüsü tarafından belirlendiği anlamına gelir. ANM'ler, özellikle doğrusal regresyon modelleri gibi basit modellerde kullanışlıdır.\n",
    "* **Doğrusal olmayan Modeller (post non-linear models)**: $X_i=g_i\\left(f_i\\left(P A_i\\right)+N_i\\right)$ biçiminde bir doğrusal olmayan model, $X_i$'nin $f_i$ fonksiyonu ve $N_i$ gürültüsü tarafından belirlendiği ve ardından $g_i$ fonksiyonu tarafından dönüştürüldüğü anlamına gelir. Bu tür modeller, doğrusal olmayan ilişkileri modellemek için kullanışlıdır.\n",
    "* **Kesikli Toplamsal Gürültü Modelleri (discete ANM)**: ANM'lerin kesikli değişkenler için bir genelleme biçimidir. \n",
    "* **Sınıflandırıcı-temelli Fonksiyonel Nedensel Modeller (classifier-based functional causal models)**: $X_i=f_i\\left(P A_i, N_i\\right)$ biçiminde bir sınıflandırıcı-temelli FCM, $X_i$'nin $f_i$ fonksiyonu ve $N_i$ gürültüsü tarafından belirlendiği anlamına gelir. Bu tür modeller, özellikle sınıflandırıcılar gibi karmaşık modellerde kullanışlıdır."
   ]
  },
  {
   "cell_type": "markdown",
   "metadata": {},
   "source": [
    "Tüm mekanizmalarda nedensel yeterlilik varsayılır, yani $N_i$'ın $P A_i$'dan bağımsız olduğu varsayılır.  Otomatik atama fonksiyonu kullanırken Do Why'ın, basamak 3 sorgularını adreslemedeki esneklikleri nedeniyle ANO'lar gibi ters çevrilebilir FCM'leri kullanmaya çalıştığını unutmayın. Kategorik veriler için bunları dize (string) olarak temsil ettiğinizden emin olun."
   ]
  },
  {
   "cell_type": "markdown",
   "metadata": {},
   "source": [
    "# 2.GCM'den Örnekler Üretme"
   ]
  },
  {
   "cell_type": "markdown",
   "metadata": {},
   "source": [
    "Grafiksel nedensel model (GCM), modellenen değişkenlerin veri oluşturma sürecini tanımlar. Bu nedenle, bir GCM'yi uydurduktan (fit) sonra, ondan tamamen yeni örnekler de oluşturabiliriz ve böylece onu, temel modellere dayalı sentetik veriler için veri oluşturucu olarak görebiliriz. Yeni örneklerin oluşturulması genellikle düğümlerin topolojik sıraya göre sıralanması, kök düğümlerden rassal örnek alınması ve ardından rassal örneklenmiş gürültü ile aşağı yöndeki nedensel mekanizmaların değerlendirilmesi yoluyla verilerin grafik boyunca yayılması yoluyla yapılabilir. dowhy.gcm paketi bunu otomatik olarak yapan basit bir yardımcı fonksiyon sağlar ve bu sayede bir GCM'den örnek almak için basit bir API sunar."
   ]
  },
  {
   "cell_type": "code",
   "execution_count": 7,
   "metadata": {},
   "outputs": [
    {
     "data": {
      "text/html": [
       "<div>\n",
       "<style scoped>\n",
       "    .dataframe tbody tr th:only-of-type {\n",
       "        vertical-align: middle;\n",
       "    }\n",
       "\n",
       "    .dataframe tbody tr th {\n",
       "        vertical-align: top;\n",
       "    }\n",
       "\n",
       "    .dataframe thead th {\n",
       "        text-align: right;\n",
       "    }\n",
       "</style>\n",
       "<table border=\"1\" class=\"dataframe\">\n",
       "  <thead>\n",
       "    <tr style=\"text-align: right;\">\n",
       "      <th></th>\n",
       "      <th>X</th>\n",
       "      <th>Y</th>\n",
       "      <th>Z</th>\n",
       "    </tr>\n",
       "  </thead>\n",
       "  <tbody>\n",
       "    <tr>\n",
       "      <th>0</th>\n",
       "      <td>-0.046307</td>\n",
       "      <td>-1.000493</td>\n",
       "      <td>-3.991231</td>\n",
       "    </tr>\n",
       "    <tr>\n",
       "      <th>1</th>\n",
       "      <td>-1.352084</td>\n",
       "      <td>-2.740511</td>\n",
       "      <td>-9.230697</td>\n",
       "    </tr>\n",
       "    <tr>\n",
       "      <th>2</th>\n",
       "      <td>0.366511</td>\n",
       "      <td>1.836047</td>\n",
       "      <td>4.189821</td>\n",
       "    </tr>\n",
       "    <tr>\n",
       "      <th>3</th>\n",
       "      <td>-0.029311</td>\n",
       "      <td>-0.366045</td>\n",
       "      <td>-0.919932</td>\n",
       "    </tr>\n",
       "    <tr>\n",
       "      <th>4</th>\n",
       "      <td>0.379892</td>\n",
       "      <td>2.155467</td>\n",
       "      <td>5.632602</td>\n",
       "    </tr>\n",
       "  </tbody>\n",
       "</table>\n",
       "</div>"
      ],
      "text/plain": [
       "          X         Y         Z\n",
       "0 -0.046307 -1.000493 -3.991231\n",
       "1 -1.352084 -2.740511 -9.230697\n",
       "2  0.366511  1.836047  4.189821\n",
       "3 -0.029311 -0.366045 -0.919932\n",
       "4  0.379892  2.155467  5.632602"
      ]
     },
     "execution_count": 7,
     "metadata": {},
     "output_type": "execute_result"
    }
   ],
   "source": [
    "X = np.random.normal(loc=0, scale=1, size=1000)\n",
    "Y = 2 * X + np.random.normal(loc=0, scale=1, size=1000)\n",
    "Z = 3 * Y + np.random.normal(loc=0, scale=1, size=1000)\n",
    "data = pd.DataFrame(data=dict(X=X, Y=Y, Z=Z))\n",
    "data.head()"
   ]
  },
  {
   "cell_type": "markdown",
   "metadata": {},
   "source": [
    "Artık tanımlanmış nedensel grafiğe ve toplamsal gürültü modeli varsayımına dayalı olarak değişkenlerin üretken modellerini öğrendik. Bu modelden yeni örnekler oluşturmak için artık basitçe şunu çağırabiliriz:"
   ]
  },
  {
   "cell_type": "code",
   "execution_count": 8,
   "metadata": {},
   "outputs": [
    {
     "name": "stderr",
     "output_type": "stream",
     "text": [
      "Fitting causal mechanism of node Z: 100%|██████████| 3/3 [00:00<00:00, 500.16it/s]\n"
     ]
    }
   ],
   "source": [
    "import networkx as nx\n",
    "import dowhy.gcm as gcm\n",
    "\n",
    "causal_model = gcm.StructuralCausalModel(nx.DiGraph([(\"X\", \"Y\"), (\"Y\", \"Z\")]))\n",
    "gcm.auto.assign_causal_mechanisms(causal_model, data) # Automatically assigns mechanisms based on the data\n",
    "gcm.fit(causal_model, data)"
   ]
  },
  {
   "cell_type": "code",
   "execution_count": 9,
   "metadata": {},
   "outputs": [
    {
     "data": {
      "text/html": [
       "<div>\n",
       "<style scoped>\n",
       "    .dataframe tbody tr th:only-of-type {\n",
       "        vertical-align: middle;\n",
       "    }\n",
       "\n",
       "    .dataframe tbody tr th {\n",
       "        vertical-align: top;\n",
       "    }\n",
       "\n",
       "    .dataframe thead th {\n",
       "        text-align: right;\n",
       "    }\n",
       "</style>\n",
       "<table border=\"1\" class=\"dataframe\">\n",
       "  <thead>\n",
       "    <tr style=\"text-align: right;\">\n",
       "      <th></th>\n",
       "      <th>X</th>\n",
       "      <th>Y</th>\n",
       "      <th>Z</th>\n",
       "    </tr>\n",
       "  </thead>\n",
       "  <tbody>\n",
       "    <tr>\n",
       "      <th>0</th>\n",
       "      <td>-0.783100</td>\n",
       "      <td>-1.583895</td>\n",
       "      <td>-4.321736</td>\n",
       "    </tr>\n",
       "    <tr>\n",
       "      <th>1</th>\n",
       "      <td>3.056593</td>\n",
       "      <td>6.585362</td>\n",
       "      <td>18.293632</td>\n",
       "    </tr>\n",
       "    <tr>\n",
       "      <th>2</th>\n",
       "      <td>0.060701</td>\n",
       "      <td>2.082490</td>\n",
       "      <td>5.654745</td>\n",
       "    </tr>\n",
       "    <tr>\n",
       "      <th>3</th>\n",
       "      <td>0.218877</td>\n",
       "      <td>0.618799</td>\n",
       "      <td>0.184268</td>\n",
       "    </tr>\n",
       "    <tr>\n",
       "      <th>4</th>\n",
       "      <td>0.583370</td>\n",
       "      <td>0.442989</td>\n",
       "      <td>2.106716</td>\n",
       "    </tr>\n",
       "  </tbody>\n",
       "</table>\n",
       "</div>"
      ],
      "text/plain": [
       "          X         Y          Z\n",
       "0 -0.783100 -1.583895  -4.321736\n",
       "1  3.056593  6.585362  18.293632\n",
       "2  0.060701  2.082490   5.654745\n",
       "3  0.218877  0.618799   0.184268\n",
       "4  0.583370  0.442989   2.106716"
      ]
     },
     "execution_count": 9,
     "metadata": {},
     "output_type": "execute_result"
    }
   ],
   "source": [
    "generated_data = gcm.draw_samples(causal_model, num_samples=1000)\n",
    "generated_data.head()"
   ]
  },
  {
   "cell_type": "markdown",
   "metadata": {},
   "source": [
    "Modelleme varsayımlarımız doğruysa, oluşturulan veriler artık gözlemlenen veri dağılımına benzemelidir; yani oluşturulan örnekler, başlangıçta örnek verilerimiz için tanımladığımız ortak dağılıma karşılık gelir. Bundan emin olmanın bir yolu, gözlemlenen ve oluşturulan dağılım arasındaki KL farklılığını tahmin etmektir. Bunun için değerlendirme modülünü kullanabiliriz:"
   ]
  },
  {
   "cell_type": "code",
   "execution_count": 10,
   "metadata": {},
   "outputs": [
    {
     "name": "stderr",
     "output_type": "stream",
     "text": [
      "Test permutations of given graph: 100%|██████████| 6/6 [00:02<00:00,  2.10it/s]\n"
     ]
    },
    {
     "data": {
      "image/png": "[encoded data removed]",
      "text/plain": [
       "<Figure size 800x300 with 1 Axes>"
      ]
     },
     "metadata": {},
     "output_type": "display_data"
    },
    {
     "name": "stdout",
     "output_type": "stream",
     "text": [
      "Evaluated and the overall average KL divergence between generated and observed distribution and the graph structure. The results are as follows:\n",
      "\n",
      "==== Evaluation of Generated Distribution ====\n",
      "The overall average KL divergence between the generated and observed distribution is 0.0\n",
      "The estimated KL divergence indicates an overall very good representation of the data distribution.\n",
      "\n",
      "==== Evaluation of the Causal Graph Structure ====\n",
      "+-------------------------------------------------------------------------------------------------------+\n",
      "|                                         Falsificaton Summary                                          |\n",
      "+-------------------------------------------------------------------------------------------------------+\n",
      "| The given DAG is not informative because 2 / 6 of the permutations lie in the Markov                  |\n",
      "| equivalence class of the given DAG (p-value: 0.33).                                                   |\n",
      "| The given DAG violates 0/1 LMCs and is better than 66.7% of the permuted DAGs (p-value: 0.33).        |\n",
      "| Based on the provided significance level (0.2) and because the DAG is not informative,                |\n",
      "| we do not reject the DAG.                                                                             |\n",
      "+-------------------------------------------------------------------------------------------------------+\n",
      "\n",
      "==== NOTE ====\n",
      "Always double check the made model assumptions with respect to the graph structure and choice of causal mechanisms.\n",
      "All these evaluations give some insight into the goodness of the causal model, but should not be overinterpreted, since some causal relationships can be intrinsically hard to model. Furthermore, many algorithms are fairly robust against misspecifications or poor performances of causal mechanisms.\n"
     ]
    }
   ],
   "source": [
    "print(gcm.evaluate_causal_model(causal_model, data, evaluate_causal_mechanisms=False, evaluate_invertibility_assumptions=False))"
   ]
  },
  {
   "cell_type": "markdown",
   "metadata": {},
   "source": [
    "Bu, oluşturulan dağılımın gözlemlenen dağılıma yakın olduğunu doğrulamaktadır."
   ]
  },
  {
   "cell_type": "markdown",
   "metadata": {},
   "source": [
    "**NOT**: Değerlendirme bize nedensel grafik yapısına ilişkin içgörüler sağlarken, grafik yapısını doğrulayamayız, yalnızca gözlemlenen yapının bağımlılıkları ile grafiğin temsil ettiği şey arasında tutarsızlıklar bulursak reddedebiliriz. Bizim durumumuzda DAG'ı reddetmiyoruz ancak reddedilmeyecek başka eşdeğer DAG'ler de var. Bunu görmek için yukarıdaki örneği düşünün - X→Y→Z ve X←Y←Z aynı gözlemsel dağılımı oluşturur (çünkü aynı koşulları kodlarlar), ancak yalnızca X→Y→Z doğru müdahalesel dağılımı oluşturur (örn. , Y'ye müdahale ederken)."
   ]
  },
  {
   "cell_type": "markdown",
   "metadata": {},
   "source": [
    "# 3. GCM'in Değerlendirilmesi (Evaluating GCM)"
   ]
  },
  {
   "cell_type": "markdown",
   "metadata": {},
   "source": [
    "Grafiksel nedensel bir modelin (GCM) modellenmesi, çeşitli varsayımları ve model seçimlerini gerektirir; bunların tümü, modelin performansını ve doğruluğunu etkileyebilir. Gerekli varsayımlara ilişkin bazı örnekler şunlardır:\n",
    "\n",
    "**Grafik Yapısı**: Değişkenler arasındaki nedensel yönlerin doğru şekilde belirlenmesi çok önemlidir. Örneğin yağmurun sokağı ıslattığını söylemek mantıklı iken, ıslak sokağın yağmura neden olduğunu iddia etmek mantıklı değildir. Bu ilişkiler yanlış modellenirse ortaya çıkan nedensel ifadeler yanıltıcı olacaktır. Bununla birlikte, bu örnek oldukça basit olmasına rağmen modellerin genellikle yanlış spesifikasyonlara karşı bir miktar sağlamlık sergilediğini belirtmek önemlidir. Özellikle, yanlış belirtmenin etkisi daha büyük grafiklerde daha az şiddetli olma eğilimindedir. Ek olarak, yanlış tanımlamaların ciddiyeti de farklılık gösterebilir; örneğin, yanlış bir nedensel yön tanımlamak, bir düğümün potansiyel ebeveynleri olarak çok fazla (yukarı akış) düğümü dahil etmekten genellikle daha problemlidir.\n",
    "\n",
    "Nedensel bir grafik yapısı, değişkenler arasındaki (koşullu) bağımsızlıklara ilişkin varsayımları tanımladığından, belirli bir grafik yapısı yanlışlanabilir. Örneğin, X→Y→Z zincirinde, Y verildiğinde X ve Z'nin bağımsız olması gerektiğini biliyoruz. Eğer durum böyle değilse, verilen grafiğin yanlış olduğuna dair bazı kanıtlarımız var. Ancak diğer taraftan daha güçlü varsayımlar olmadan bir grafiğin doğruluğunu teyit edemeyiz. Zincir örneğini takip edersek, her iki kenarı da çevirirsek, koşullu bağımsızlık ifadesi (Y sabitken Z ve X bağımsızdır) hala geçerli olacaktır.\n",
    "\n",
    "**Nedensel Mekanizma Varsayımı**: Nedensel veri oluşturma sürecini modellemek için, her düğümü $X_i=f_i\\left(P A_i, N_i\\right)$ biçiminde bir nedensel mekanizma ile temsil ediyoruz; burada $N_i$ gözlemlenmeyen gürültüyü belirtir ve $P A_i$, $X_i$'ın nedensel ebeveynlerini temsil eder. Bu bağlamda $f_i$ fonksiyonunun formuna ilişkin ek bir varsayıma ihtiyacımız var. Örneğin sürekli değişkenler için, $f_i$ modelinin $X_i=f_i\\left(P A_i\\right)+N_i$ biçimindeki bir toplamsal gürültü modeli kullanılarak modellenmesi yaygındır. Ancak gerçek ilişki farklıysa (örneğin çarpımsal) bu gösterim doğru olmayabilir. Dolayısıyla nedensel mekanizmanın türü de sonuçları etkileyebilecek diğer bir faktördür. Ancak genel olarak sürekli durumdaki toplam gürültü modeli varsayımı pratikteki ihlallere karşı nispeten dayanıklı olma eğilimindedir.\n",
    "\n",
    "**Model Seçimi**: Önceki iki nokta yalnızca değişkenler arasındaki nedensel ilişkilerin doğru şekilde temsil edilmesine odaklandı. Artık model seçim süreci ek bir katman ekliyor. Örnek olarak $X_i=f_i\\left(P A_i\\right)+N_i$ toplamsal gürültü modeline bağlı kalarak, model seçimindeki zorluk $f_i$ için en uygun modeli belirlemekte yatmaktadır. İdeal durumda bu, ortalama karesel hatayı en aza indiren model olacaktır.\n",
    "\n",
    "Bir GCM'nin performansını etkileyen, her birinin kendi metrikleri ve zorlukları olan çok sayıda faktör göz önüne alındığında, dowhy.gcm, uygun bir GCM'yi değerlendirmeyi ve farklı değerlendirme metriklerine genel bir bakış sağlamayı amaçlayan bir modüle sahiptir. Ayrıca, otomatik atama kullanılırsa, seçim sürecinde değerlendirilen modellere ve performanslara ilişkin genel bir bakış elde edebiliriz.\n"
   ]
  },
  {
   "cell_type": "markdown",
   "metadata": {},
   "source": [
    "## Otomatik Atamanın Özet Çıktısı"
   ]
  },
  {
   "cell_type": "markdown",
   "metadata": {},
   "source": [
    "Nedensel ilişkiler hakkında önsel bilgi mevcutsa, nedensel mekanizmaları buna göre modellemek için her zaman bu bilginin kullanılması tavsiye edilir. Ancak yeterli bilgiye sahip değilseniz, GCM'ler için otomatik atama fonksiyonu, verilen verilere dayanarak her düğüm için uygun bir nedensel mekanizmanın otomatik olarak seçilmesine yardımcı olabilir. Otomatik atama iki şey yapar: 1) Uygun bir nedensel mekanizma seçin ve 2) küçük bir model havuzunda en iyi performansı gösteren modeli seçin.\n",
    "\n",
    "Otomatik atama fonksiyonunu kullanırken, model seçim sürecine ilişkin, dikkate alınan nedensel mekanizmaların türleri ve performanslarıyla birlikte değerlendirilen modeller gibi ek bilgiler elde edebiliriz. Bunu açıklamak için X→Y→Z zincir yapısı örneğini tekrar düşünün:"
   ]
  },
  {
   "cell_type": "code",
   "execution_count": 11,
   "metadata": {},
   "outputs": [],
   "source": [
    "import numpy as np, pandas as pd\n",
    "import networkx as nx\n",
    "import dowhy.gcm as gcm\n",
    "\n",
    "X = np.random.normal(loc=0, scale=1, size=1000)\n",
    "Y = 2 * X + np.random.normal(loc=0, scale=1, size=1000)\n",
    "Z = 3 * Y + np.random.normal(loc=0, scale=1, size=1000)\n",
    "data = pd.DataFrame(data=dict(X=X, Y=Y, Z=Z))"
   ]
  },
  {
   "cell_type": "code",
   "execution_count": 12,
   "metadata": {},
   "outputs": [
    {
     "name": "stdout",
     "output_type": "stream",
     "text": [
      "When using this auto assignment function, the given data is used to automatically assign a causal mechanism to each node. Note that causal mechanisms can also be customized and assigned manually.\n",
      "The following types of causal mechanisms are considered for the automatic selection:\n",
      "\n",
      "If root node:\n",
      "An empirical distribution, i.e., the distribution is represented by randomly sampling from the provided data. This provides a flexible and non-parametric way to model the marginal distribution and is valid for all types of data modalities.\n",
      "\n",
      "If non-root node and the data is continuous:\n",
      "Additive Noise Models (ANM) of the form X_i = f(PA_i) + N_i, where PA_i are the parents of X_i and the unobserved noise N_i is assumed to be independent of PA_i.To select the best model for f, different regression models are evaluated and the model with the smallest mean squared error is selected.Note that minimizing the mean squared error here is equivalent to selecting the best choice of an ANM.\n",
      "\n",
      "If non-root node and the data is discrete:\n",
      "Discrete Additive Noise Models have almost the same definition as non-discrete ANMs, but come with an additional constraint for f to only return discrete values.\n",
      "Note that 'discrete' here refers to numerical values with an order. If the data is categorical, consider representing them as strings to ensure proper model selection.\n",
      "\n",
      "If non-root node and the data is categorical:\n",
      "A functional causal model based on a classifier, i.e., X_i = f(PA_i, N_i).\n",
      "Here, N_i follows a uniform distribution on [0, 1] and is used to randomly sample a class (category) using the conditional probability distribution produced by a classification model.Here, different model classes are evaluated using the (negative) F1 score and the best performing model class is selected.\n",
      "\n",
      "In total, 3 nodes were analyzed:\n",
      "\n",
      "--- Node: X\n",
      "Node X is a root node. Therefore, assigning 'Empirical Distribution' to the node representing the marginal distribution.\n",
      "\n",
      "--- Node: Y\n",
      "Node Y is a non-root node with continuous data. Assigning 'AdditiveNoiseModel using LinearRegression' to the node.\n",
      "This represents the causal relationship as Y := f(X) + N.\n",
      "For the model selection, the following models were evaluated on the mean squared error (MSE) metric:\n",
      "LinearRegression: 1.0092931948187327\n",
      "Pipeline(steps=[('polynomialfeatures', PolynomialFeatures(include_bias=False)),\n",
      "                ('linearregression', LinearRegression)]): 1.0120399714881283\n",
      "HistGradientBoostingRegressor: 1.1346734147416253\n",
      "\n",
      "--- Node: Z\n",
      "Node Z is a non-root node with continuous data. Assigning 'AdditiveNoiseModel using LinearRegression' to the node.\n",
      "This represents the causal relationship as Z := f(Y) + N.\n",
      "For the model selection, the following models were evaluated on the mean squared error (MSE) metric:\n",
      "LinearRegression: 1.0061887206351112\n",
      "Pipeline(steps=[('polynomialfeatures', PolynomialFeatures(include_bias=False)),\n",
      "                ('linearregression', LinearRegression)]): 1.008680238237806\n",
      "HistGradientBoostingRegressor: 1.4555244586264928\n",
      "\n",
      "===Note===\n",
      "Note, based on the selected auto assignment quality, the set of evaluated models changes.\n",
      "For more insights toward the quality of the fitted graphical causal model, consider using the evaluate_causal_model function after fitting the causal mechanisms.\n"
     ]
    }
   ],
   "source": [
    "causal_model = gcm.StructuralCausalModel(nx.DiGraph([('X', 'Y'), ('Y', 'Z')]))\n",
    "summary_auto_assignment = gcm.auto.assign_causal_mechanisms(causal_model, data)\n",
    "print(summary_auto_assignment)"
   ]
  },
  {
   "cell_type": "markdown",
   "metadata": {},
   "source": [
    "Bu senaryoda, X kök düğümüne ampirik bir dağılım atanırken, Y ve Z düğümleri için toplamsal gürültü modelleri kullanılır (nedensel mekanizma türleri hakkında daha fazla ayrıntı için bkz. Grafiksel nedensel model türleri). Her iki durumda da doğrusal regresyon modeli, ortalama karesel hatanın en aza indirilmesi açısından en iyi performansı gösterdi. Değerlendirilen modellerin ve performanslarının bir listesi de mevcuttur. Otomatik atama için varsayılan parametreyi kullandığımızdan yalnızca küçük bir model hayvanat bahçesi değerlendirilir. Ancak atama kalitesini daha fazla modele genişletmek için de ayarlayabiliriz.\n",
    "\n",
    "Her düğüme nedensel mekanizmalar atadıktan sonraki adım, bu mekanizmaların verilere uydurulmasını içerir:"
   ]
  },
  {
   "cell_type": "code",
   "execution_count": 13,
   "metadata": {},
   "outputs": [
    {
     "name": "stderr",
     "output_type": "stream",
     "text": [
      "Fitting causal mechanism of node Z: 100%|██████████| 3/3 [00:00<00:00, 748.89it/s]\n"
     ]
    }
   ],
   "source": [
    "gcm.fit(causal_model, data)"
   ]
  },
  {
   "cell_type": "markdown",
   "metadata": {},
   "source": [
    "## Uydurulan GCM'nin Değerlendirilmesi"
   ]
  },
  {
   "cell_type": "markdown",
   "metadata": {},
   "source": [
    "Nedensel model uyduruldu ve artık farklı nedensel sorular için kullanılabilir. Ancak öncelikle nedensel model performansına ilişkin bazı bilgiler edinmek ilgimizi çekebilir, yani şunu merak edebiliriz:\n",
    "\n",
    "* Nedensel mekanizmalarım ne kadar iyi performans gösteriyor?\n",
    "* Toplamsal gürültü modeli varsayımı verilerim için bile geçerli mi?\n",
    "* GCM gözlemlenen verilerin ortak dağılımını yakalıyor mu?\n",
    "* Nedensel grafik yapımız verilerle uyumlu mu?\n",
    "\n",
    "Bunun için, genel model performansına ve varsayımlarımızın geçerli olup olmadığına dair bize bazı bilgiler sağlayan nedensel model değerlendirme fonksiyonunu kullanabiliriz:"
   ]
  },
  {
   "cell_type": "code",
   "execution_count": 14,
   "metadata": {},
   "outputs": [
    {
     "name": "stderr",
     "output_type": "stream",
     "text": [
      "Evaluating causal mechanisms...: 100%|██████████| 3/3 [00:00<00:00, 2985.98it/s]\n",
      "Test permutations of given graph: 100%|██████████| 6/6 [00:03<00:00,  1.94it/s]\n"
     ]
    },
    {
     "data": {
      "image/png": "[encoded data removed]",
      "text/plain": [
       "<Figure size 800x300 with 1 Axes>"
      ]
     },
     "metadata": {},
     "output_type": "display_data"
    },
    {
     "name": "stdout",
     "output_type": "stream",
     "text": [
      "Evaluated the performance of the causal mechanisms and the invertibility assumption of the causal mechanisms and the overall average KL divergence between generated and observed distribution and the graph structure. The results are as follows:\n",
      "\n",
      "==== Evaluation of Causal Mechanisms ====\n",
      "The used evaluation metrics are:\n",
      "- KL divergence (only for root-nodes): Evaluates the divergence between the generated and the observed distribution.\n",
      "- Mean Squared Error (MSE): Evaluates the average squared differences between the observed values and the conditional expectation of the causal mechanisms.\n",
      "- Normalized MSE (NMSE): The MSE normalized by the standard deviation for better comparison.\n",
      "- R2 coefficient: Indicates how much variance is explained by the conditional expectations of the mechanisms. Note, however, that this can be misleading for nonlinear relationships.\n",
      "- F1 score (only for categorical non-root nodes): The harmonic mean of the precision and recall indicating the goodness of the underlying classifier model.\n",
      "- (normalized) Continuous Ranked Probability Score (CRPS): The CRPS generalizes the Mean Absolute Percentage Error to probabilistic predictions. This gives insights into the accuracy and calibration of the causal mechanisms.\n",
      "NOTE: Every metric focuses on different aspects and they might not consistently indicate a good or bad performance.\n",
      "We will mostly utilize the CRPS for comparing and interpreting the performance of the mechanisms, since this captures the most important properties for the causal model.\n",
      "\n",
      "--- Node X\n",
      "- The KL divergence between generated and observed distribution is 0.10820233865537525.\n",
      "The estimated KL divergence indicates an overall very good representation of the data distribution.\n",
      "\n",
      "--- Node Y\n",
      "- The MSE is 1.0070101071331048.\n",
      "- The NMSE is 0.4531659700068422.\n",
      "- The R2 coefficient is 0.7939127979780427.\n",
      "- The normalized CRPS is 0.25877239218104.\n",
      "The estimated CRPS indicates a good model performance.\n",
      "The mechanism is better or equally good than all 7 baseline mechanisms.\n",
      "\n",
      "--- Node Z\n",
      "- The MSE is 1.0033985267569756.\n",
      "- The NMSE is 0.14833707588413214.\n",
      "- The R2 coefficient is 0.9778952184760236.\n",
      "- The normalized CRPS is 0.08419615265174957.\n",
      "The estimated CRPS indicates a very good model performance.\n",
      "The mechanism is better or equally good than all 7 baseline mechanisms.\n",
      "\n",
      "==== Evaluation of Invertible Functional Causal Model Assumption ====\n",
      "\n",
      "--- The model assumption for node Y is not rejected with a p-value of 1.0 (after potential adjustment) and a significance level of 0.05.\n",
      "This implies that the model assumption might be valid.\n",
      "\n",
      "--- The model assumption for node Z is not rejected with a p-value of 1.0 (after potential adjustment) and a significance level of 0.05.\n",
      "This implies that the model assumption might be valid.\n",
      "\n",
      "Note that these results are based on statistical independence tests, and the fact that the assumption was not rejected does not necessarily imply that it is correct. There is just no evidence against it.\n",
      "\n",
      "==== Evaluation of Generated Distribution ====\n",
      "The overall average KL divergence between the generated and observed distribution is 0.002699554845158349\n",
      "The estimated KL divergence indicates an overall very good representation of the data distribution.\n",
      "\n",
      "==== Evaluation of the Causal Graph Structure ====\n",
      "+-------------------------------------------------------------------------------------------------------+\n",
      "|                                         Falsificaton Summary                                          |\n",
      "+-------------------------------------------------------------------------------------------------------+\n",
      "| The given DAG is not informative because 2 / 6 of the permutations lie in the Markov                  |\n",
      "| equivalence class of the given DAG (p-value: 0.33).                                                   |\n",
      "| The given DAG violates 0/1 LMCs and is better than 66.7% of the permuted DAGs (p-value: 0.33).        |\n",
      "| Based on the provided significance level (0.2) and because the DAG is not informative,                |\n",
      "| we do not reject the DAG.                                                                             |\n",
      "+-------------------------------------------------------------------------------------------------------+\n",
      "\n",
      "==== NOTE ====\n",
      "Always double check the made model assumptions with respect to the graph structure and choice of causal mechanisms.\n",
      "All these evaluations give some insight into the goodness of the causal model, but should not be overinterpreted, since some causal relationships can be intrinsically hard to model. Furthermore, many algorithms are fairly robust against misspecifications or poor performances of causal mechanisms.\n"
     ]
    }
   ],
   "source": [
    "summary_evaluation = gcm.evaluate_causal_model(causal_model, data, compare_mechanism_baselines=True)\n",
    "print(summary_evaluation)"
   ]
  },
  {
   "cell_type": "code",
   "execution_count": null,
   "metadata": {},
   "outputs": [],
   "source": []
  },
  {
   "cell_type": "code",
   "execution_count": null,
   "metadata": {},
   "outputs": [],
   "source": []
  }
 ],
 "metadata": {
  "kernelspec": {
   "display_name": "base",
   "language": "python",
   "name": "python3"
  },
  "language_info": {
   "codemirror_mode": {
    "name": "ipython",
    "version": 3
   },
   "file_extension": ".py",
   "mimetype": "text/x-python",
   "name": "python",
   "nbconvert_exporter": "python",
   "pygments_lexer": "ipython3",
   "version": "3.11.5"
  }
 },
 "nbformat": 4,
 "nbformat_minor": 2
}
