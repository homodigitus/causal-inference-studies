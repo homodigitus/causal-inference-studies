{
 "cells": [
  {
   "cell_type": "markdown",
   "metadata": {},
   "source": [
    "# 1.DoWhy Giriş"
   ]
  },
  {
   "cell_type": "markdown",
   "metadata": {},
   "source": [
    "Yapay öğrenme kütüphanelerinin tahminleme için yaptığı gibi, DoWhy da nedensel düşünmeyi ve analizi teşvik etmeyi amaçlayan bir Python kütüphanesidir. DoWhy, etki tahmini, tahmin, nedensel etkilerin ölçülmesi, nedensel yapı öğrenimi, nedensel yapıların teşhisi, kök neden analizi, müdahaleler ve karşı olgular için çok çeşitli algoritmalar sağlar. DoWhy'ın önemli bir özelliği, herhangi bir tahmin yöntemi için nedensel varsayımları test edebilen, böylece çıkarımı daha sağlam ve uzman olmayanlar için erişilebilir hale getiren çürütme (refutation) API'sidir.\n",
    "\n",
    "DoWhy, arka kapı (backdoor), ön kapı (front door), enstrümantal değişken ve diğer tanımlama yöntemleri için ortalama nedensel etkinin tahminini ve EconML kütüphanesi ile entegrasyon aracılığıyla koşullu etkinin (CATE) tahminini destekler. Ek olarak DoWhy, kök neden analizi veya nedensel etkilerin ölçülmesi gibi sorunların üstesinden gelmeye olanak tanıyan grafiksel nedensel modeller kullanarak etki tahmininin ötesinde nedensel soruların yanıtlanmasını da destekler."
   ]
  },
  {
   "cell_type": "markdown",
   "metadata": {},
   "source": [
    "# 2.Desteklenen Nedensel Görevler"
   ]
  },
  {
   "cell_type": "markdown",
   "metadata": {},
   "source": [
    "DoWhy'ın API'si, kullanıcının gerçekleştirmesine olanak sağladığı farklı nedensel görevler etrafında düzenlenmiştir. Görevleri, Nedensel Etkileri Tahmin Etme, Nedensel Etkiyi Ölçme, Kök Neden Analizi ve Açıklama, Olsa-Ne-Olurdu (What-If) Sorularını Sorma ve Yanıtlama ve dağıLım dışı girdiler için sonucu tahmin etme şeklinde kategorilere ayırıyoruz. Bu görevler, \"Düğmemin rengini kırmızıya çevirirsem, bu kullanıcıların satın alma kararlarını ne kadar değiştirir?\" veya \"Dağıtılmış sistemimdeki hangi hizmet, ön ucun normalden daha yavaş olmasına neden oldu\" gibi soruların yanıtlarını verir.\n",
    "\n",
    "DoWhy, görevleri gerçekleştirmek için eldeki göreve bağlı olarak grafiksel nedensel modeller (GCM) ve potansiyel çıktılar (PO) olmak üzere iki güçlü çerçeveden yararlanır. Çoğu görevde ortak olan şey, sorun alanına göre modellenen nedensel bir grafik gerektirmeleridir. Bu nedenle bu kullanım kılavuzu Nedensel İlişkilerin Modellenmesi ile başlamaktadır."
   ]
  },
  {
   "cell_type": "markdown",
   "metadata": {},
   "source": [
    "![DoWhy](../img/navigation.png)"
   ]
  },
  {
   "cell_type": "markdown",
   "metadata": {},
   "source": [
    "# 3.Nedensel Çıkarım Analizinin Geçerliliğinin Test Edilmesi"
   ]
  },
  {
   "cell_type": "markdown",
   "metadata": {},
   "source": [
    "Nedensel görevler sıklıkla gözlemlenmeyen müdahalesel bir veri dağılımıyla ilgili olduğundan, nedensel bir tahminin geçerliliğini değerlendirmek için özel yollara ihtiyacımız vardır. Tahmine dayalı yapay öğrenmeden çapraz doğrulama gibi yöntemler, müdahaleli dağılımdan örneklere erişimimiz olmadığı sürece işe yaramaz. Bu nedenle her nedensel görev için analizin önemli bir kısmı elde edilen cevabın geçerli olup olmadığının test edilmesidir. DoWhy'da, nedensel bir analizle yapılan varsayımların çürütülmesini veya bunlara meydan okunmasını içeren bu sürece çürütme (refutation) adını veriyoruz. Çürütmeler iki aşamada gerçekleştirilir: nedensel grafiğin modellenmesinden sonra ve bir görevin analizi tamamlandıktan sonra."
   ]
  },
  {
   "cell_type": "markdown",
   "metadata": {},
   "source": [
    "İlk aşamada grafik çürütmeler, belirli bir nedensel grafikte kodlanan varsayımların geçerli olup olmadığını test eder. Bu, tüm aşağı yönlü analizlerin grafiğe bağlı olması nedeniyle önemli bir çürütme dizisidir. Bu çürütmeler genellikle görevden bağımsızdır ve varsayılan grafiğin kalitesini artırmak için bunları çalıştırmanızı öneririz. DoWhy'ın nedensel bir grafiği çürütme işlevi, Nedensel Grafiği Çürütme bölümünde açıklanmıştır (alternatif bir yaklaşım için ayrıca bkz. Kullanıcı Tarafından Verilen Yönlendirilmiş Döngüsel Olmayan Grafiklerin Sahteleştirilmesi). Etki tahmin problemleri için, ikinci tür çürütmeler olan tahmin çürütmeleri, görev analizi nedensel bir tahmin döndürdükten sonra gerçekleştirilir. Bu çürütmeler, analizin en iyi uygulamaları takip edip etmediğini, özel test verileri altında doğru cevabı sağlayıp sağlamadığını ve nihai tahminin varsayımların ihlaline karşı ne kadar sağlam olduğunu test eder. Tahmin çürütmeler, bir analizin sağlamlığının artırılmasına veya analizdeki birden fazla aday model arasında seçim yapılmasına yardımcı olabilir. Tahmin çürütmelerini ayrı bir bölümde tartışıyoruz: Nedensel tahminleri çürütmek."
   ]
  },
  {
   "cell_type": "markdown",
   "metadata": {},
   "source": [
    "Grafiksel nedensel modeller söz konusu olduğunda, altta yatan nedensel mekanizmalar hakkındaki belirli varsayımlar ek olarak yanlışlanabilir ve bunların test verileri üzerindeki performansı değerlendirilebilir. Daha fazla ayrıntı için bkz. GCM'yi Değerlendirme."
   ]
  },
  {
   "cell_type": "code",
   "execution_count": null,
   "metadata": {},
   "outputs": [],
   "source": []
  }
 ],
 "metadata": {
  "language_info": {
   "name": "python"
  }
 },
 "nbformat": 4,
 "nbformat_minor": 2
}
