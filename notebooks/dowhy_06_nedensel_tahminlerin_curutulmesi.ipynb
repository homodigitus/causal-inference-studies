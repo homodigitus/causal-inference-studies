{
 "cells": [
  {
   "cell_type": "markdown",
   "metadata": {},
   "source": [
    "# Etki Tahminlerinin Çürütülmesi"
   ]
  },
  {
   "cell_type": "markdown",
   "metadata": {},
   "source": [
    "Etki çürütmeleri iki türlüdür: negatif kontrol ve duyarlılık analizi."
   ]
  },
  {
   "cell_type": "markdown",
   "metadata": {},
   "source": [
    "# 1.Negatif kontrole dayalı çürütmeler"
   ]
  },
  {
   "cell_type": "markdown",
   "metadata": {},
   "source": [
    "İlk tür çürütme testleri, herhangi bir iyi tahmin prosedürünün karşılaması gereken gerekli koşullardır. Bunlara negatif kontroller de denir. Bir tahminci çürütme testinde başarısız olursa (p değeri <0,05), bu tahmincide bir sorun olduğu anlamına gelir.\n",
    "\n",
    "Negatif kontrol çürütme testleri şunlardan birine dayanır:\n",
    "\n",
    "* **Değişmez dönüşümler (invariant transformations)**: Tahmini değiştirmemesi gereken verilerdeki değişiklikler. Orijinal veriler ile değiştirilmiş veriler arasında sonucu önemli ölçüde değişen herhangi bir tahminci testi geçemez. Örnekler: veri alt kümesi ve rastgele ortak neden çürütmeleridir.\n",
    "\n",
    "* **Geçersiz kılan dönüşümler (nullifying transformations)**: Veriler değiştikten sonra, nedensel gerçek tahmin sıfırdır. Yeni verilerde sonucu sıfırdan önemli ölçüde değişen herhangi bir tahminci testi geçemez. Örnekler: plasebo tedavisi ve sahte sonuç (dummy outcome) çürütmeleridir."
   ]
  },
  {
   "cell_type": "markdown",
   "metadata": {},
   "source": [
    "# 2.Duyarlılık analizine dayalı çürütmeler"
   ]
  },
  {
   "cell_type": "markdown",
   "metadata": {},
   "source": [
    "İkinci tür ise, gözlemlenmeyen karıştırıcı faktör bulunmaması (no unobserved confounding) gibi varsayımların ihlali durumunda elde edilen tahminin sağlamlığını test eden duyarlılık testleridir."
   ]
  },
  {
   "cell_type": "markdown",
   "metadata": {},
   "source": [
    "## 2.1.Plasebo Tedavisini Çürüten (Placebo Treatment Refuter)"
   ]
  },
  {
   "cell_type": "markdown",
   "metadata": {},
   "source": [
    "Plasebo Tedavisi çürütmesi şunu sorar: Gerçek tedavi değişkenini bağımsız bir rastgele değişkenle değiştirdiğimizde tahmini nedensel etkiye ne olur? (İpucu: etki sıfıra gitmelidir)\n",
    "\n",
    "```python\n",
    "res_placebo=model.refute_estimate(identified_estimand, estimate,\n",
    "       method_name=\"placebo_treatment_refuter\", show_progress_bar=True, placebo_type=\"permute\")\n",
    "print(res_placebo)\n",
    "```"
   ]
  },
  {
   "cell_type": "markdown",
   "metadata": {},
   "source": [
    "## 2.2.Sahte Sonuç Çürütücüsü (Dummy Outcome Refuter)"
   ]
  },
  {
   "cell_type": "markdown",
   "metadata": {},
   "source": [
    "Sahte sonuç çürütücü testleri: Gerçek sonuç değişkenini bağımsız bir rastgele değişkenle değiştirdiğimizde tahmini nedensel etkiye ne olur? (İpucu: Etki sıfıra gitmelidir) Ek olarak, testin bir uzantısı, nedensel etkinin sıfıra gitmesi gerekmeyen herhangi bir simüle edilmiş sonucu da kontrol edebilir: Verilen veri kümesine en yakın bilinen bir veri oluşturma sürecine dayalı simüle edilmiş bir sonuçla sonucu değiştirdiğimizde tahmini nedensel etkiye ne olur? (İpucu: Veri oluşturma sürecindeki etki parametresiyle eşleşmelidir)"
   ]
  },
  {
   "cell_type": "markdown",
   "metadata": {},
   "source": [
    "Sıfır nedensel etki testi:\n",
    "\n",
    "```python\n",
    "ref = model.refute_estimate(identified_estimand,\n",
    "                          causal_estimate,\n",
    "                          method_name=\"dummy_outcome_refuter\"\n",
    "                          )\n",
    "print(ref[0])\n",
    "```"
   ]
  },
  {
   "cell_type": "markdown",
   "metadata": {},
   "source": [
    "Sıfır olmayan nedensel etkinin test edilmesi:\n",
    "\n",
    "```python\n",
    "coefficients = np.array([1,2])\n",
    "bias = 3\n",
    "def linear_gen(df):\n",
    "    y_new = np.dot(df[['W0','W1']].values,coefficients) + 3\n",
    "    return y_new\n",
    "```\n",
    "\n",
    "```python\n",
    "ref = model.refute_estimate(identified_estimand,\n",
    "                          causal_estimate,\n",
    "                          method_name=\"dummy_outcome_refuter\",\n",
    "                          outcome_function=linear_gen\n",
    "                          )\n",
    "print(ref[0])\n",
    "```"
   ]
  },
  {
   "cell_type": "markdown",
   "metadata": {},
   "source": [
    "## 2.3.Rastgele Ortak Neden Çürütücü (Random Common Cause Refuter)"
   ]
  },
  {
   "cell_type": "markdown",
   "metadata": {},
   "source": [
    "Rastgele Ortak Neden çürütücüsü şunları kontrol eder: Veri setine ortak neden olarak bağımsız bir rastgele değişken ekledikten sonra tahmin yöntemi tahminini değiştirir mi? (İpucu: Değiştirmemelidir)\n",
    "\n",
    "```python\n",
    "res_random=model.refute_estimate(identified_estimand, estimate, method_name=\"random_common_cause\", show_progress_bar=True)\n",
    "print(res_random)\n",
    "```"
   ]
  },
  {
   "cell_type": "markdown",
   "metadata": {},
   "source": [
    "## 2.4.Veri Alt Örneklem Çürütücüsü (Data Subsample Refuter)"
   ]
  },
  {
   "cell_type": "markdown",
   "metadata": {},
   "source": [
    "Bu test şunu soruyor: Verilen veri setini rastgele seçilmiş bir alt kümeyle değiştirdiğimizde tahmini etki önemli ölçüde değişir mi? (İpucu: değişmemeli)\n",
    "\n",
    "```python\n",
    "res_subset=model.refute_estimate(identified_estimand, estimate,\n",
    "       method_name=\"data_subset_refuter\", show_progress_bar=True, subset_fraction=0.9)\n",
    "print(res_subset)\n",
    "```"
   ]
  },
  {
   "cell_type": "markdown",
   "metadata": {},
   "source": [
    "## 2.5.Duyarlılık Analizi"
   ]
  },
  {
   "cell_type": "markdown",
   "metadata": {},
   "source": [
    "Duyarlılık analizi, veri setine tedavi ve sonuçla ilişkili ek bir ortak neden (karıştırıcı) eklediğimizde etki tahmininin ne kadar duyarlı olduğunu test eder? (İpucu: Çok hassas olmamalıdır)"
   ]
  },
  {
   "cell_type": "markdown",
   "metadata": {},
   "source": [
    "### 2.5.1.Simülasyon tabanlı duyarlılık analizi"
   ]
  },
  {
   "cell_type": "markdown",
   "metadata": {},
   "source": [
    "Bu çürütme bir p-değeri döndürmez. Bunun yerine, tanımlayıcı varsayımlar (identify_effect'te kullanılır) geçerli değilse tahminin ne kadar hızlı değiştiğine dair bir duyarlılık testi sağlar. Özellikle, arka kapı varsayımının ihlaline duyarlılığı kontrol eder: tüm yaygın nedenlerin gözlemlendiği."
   ]
  },
  {
   "cell_type": "markdown",
   "metadata": {},
   "source": [
    "Bunu yapmak için, tedavi ve sonuç arasında ek bir ortak nedene sahip yeni bir veri kümesi oluşturur. Ortak nedenin etkisini yakalamak için, yöntem girdi olarak ortak nedenin tedavi ve sonuç üzerindeki etkisinin gücünü alır. Ortak nedenin etkilerine ilişkin bu girdilere dayanarak, tedavi ve sonuç değerlerini değiştirir ve ardından tahmin ediciyi yeniden çalıştırır. Beklenen, yeni tahminin gözlemlenmeyen ortak nedenin küçük bir etkisiyle büyük ölçüde değişmemesi ve gözlemlenmeyen herhangi bir karıştırıcıya karşı sağlamlık göstermesidir."
   ]
  },
  {
   "cell_type": "markdown",
   "metadata": {},
   "source": [
    "Bu prosedürü yorumlamanın bir diğer eşdeğer yolu, girdi verilerinde zaten gözlemlenmemiş karıştırıcının mevcut olduğunu varsaymaktır. Tedavi ve sonuç değerlerindeki değişiklik, orijinal verilerde mevcut olan gözlemlenmemiş ortak nedenin etkisini ortadan kaldırır. Daha sonra tahminciyi bu değiştirilmiş veriler üzerinde yeniden çalıştırmak doğru tanımlanmış tahmini sağlar ve gözlemlenmemiş ortak nedenin etkisinin bazı sınırlı değerleri için yeni tahmin ile orijinal tahmin arasındaki farkın çok yüksek olmadığını umuyoruz."
   ]
  },
  {
   "cell_type": "markdown",
   "metadata": {},
   "source": [
    "**Alan bilgisinin önemi**: Bu test, gözlemlenmeyen karıştırıcının etkisinin makul girdi değerlerini belirlemek için alan bilgisini gerektirir. İlk olarak, karıştırıcının tedavi ve sonuç üzerindeki etkisinin tek bir değeri için sonucu gösteriyoruz.\n",
    "\n",
    "```python\n",
    "res_unobserved=model.refute_estimate(identified_estimand, estimate, method_name=\"add_unobserved_common_cause\",\n",
    "                                    confounders_effect_on_treatment=\"binary_flip\", confounders_effect_on_outcome=\"linear\",\n",
    "                                   effect_strength_on_treatment=0.01, effect_strength_on_outcome=0.02)\n",
    "print(res_unobserved)\n",
    "```"
   ]
  },
  {
   "cell_type": "markdown",
   "metadata": {},
   "source": [
    "Gözlemlenemeyen karıştırıcının etkisi arttıkça eğilimi incelemek genellikle daha faydalıdır. Bunun için, varsayılan karıştırıcıların etkilerinin bir dizisini sağlayabiliriz. Çıktı, farklı gözlemlenemeyen karıştırıcılar altında tahmini etkilerin (min, maks) aralığıdır.\n",
    "\n",
    "```python\n",
    "res_unobserved_range=model.refute_estimate(identified_estimand, estimate, method_name=\"add_unobserved_common_cause\",\n",
    "                                    confounders_effect_on_treatment=\"binary_flip\", confounders_effect_on_outcome=\"linear\",\n",
    "                                   effect_strength_on_treatment=np.array([0.001, 0.005, 0.01, 0.02]), effect_strength_on_outcome=0.01)\n",
    "print(res_unobserved_range)\n",
    "```"
   ]
  },
  {
   "cell_type": "markdown",
   "metadata": {},
   "source": [
    "Yukarıdaki grafik, tedavi üzerindeki varsayılan karıştırıcı etki arttıkça tahminin nasıl azaldığını göstermektedir. Alan bilgisine göre, tedavi üzerindeki maksimum olası karıştırıcı etkiyi bilebiliriz. Etkinin sıfırın ötesine geçmediğini gördüğümüzden, tedavi v0'ın nedensel etkisinin pozitif olduğu sonucuna güvenle varabiliriz.\n",
    "\n",
    "Ayrıca, hem tedavi hem de sonuç üzerindeki karıştırıcı etkiyi değiştirebiliriz. Bir ısı haritası elde ederiz\n",
    "\n",
    "```python\n",
    "res_unobserved_range=model.refute_estimate(identified_estimand, estimate, method_name=\"add_unobserved_common_cause\",\n",
    "                                          confounders_effect_on_treatment=\"binary_flip\", confounders_effect_on_outcome=\"linear\",\n",
    "                                          effect_strength_on_treatment=[0.001, 0.005, 0.01, 0.02],\n",
    "                                          effect_strength_on_outcome=[0.001, 0.005, 0.01,0.02])\n",
    "print(res_unobserved_range)\n",
    "```"
   ]
  },
  {
   "cell_type": "markdown",
   "metadata": {},
   "source": [
    "Son olarak, DoWhy etki gücü (effect strength) parametrelerinin otomatik olarak seçilmesini destekler. Bu, gözlemlenmeyen karıştırıcının tedavi veya sonuç üzerindeki etkisinin gözlemlenen herhangi bir karıştırıcıdan daha güçlü olamayacağı varsayımına dayanır. Yani, en azından en alakalı karıştırıcı için veri topladık. Eğer durum buysa, effect_strength_on_treatment ve effect_strength_on_outcome aralığını gözlemlenen karıştırıcıların etki gücüyle sınırlayabiliriz. Gözlemlenmeyen karıştırıcının etki gücünün gözlemlenen en yüksek kadar mı yoksa onun bir kesri kadar mı olması gerektiğini belirten ek bir isteğe bağlı parametre vardır. İsteğe bağlı effect_fraction_on_treatment ve effect_fraction_on_outcome parametrelerini kullanarak bunu ayarlayabilirsiniz. Varsayılan olarak, bu iki parametre 1'dir.\n",
    "\n",
    "```python\n",
    "res_unobserved_auto = model.refute_estimate(identified_estimand, estimate, method_name=\"add_unobserved_common_cause\",\n",
    "                                          confounders_effect_on_treatment=\"binary_flip\", confounders_effect_on_outcome=\"linear\")\n",
    "print(res_unobserved_auto)\n",
    "```"
   ]
  },
  {
   "cell_type": "markdown",
   "metadata": {},
   "source": [
    "### 2.5.2.Doğrusal tahmin ediciler için kısmi-R2 tabanlı duyarlılık analizi"
   ]
  },
  {
   "cell_type": "markdown",
   "metadata": {},
   "source": [
    "Bu gelişmiş bir çürütme testidir. Ayrıntılar Regresyon Modelleri için Duyarlılık Analizi not defterindedir.\n"
   ]
  },
  {
   "cell_type": "markdown",
   "metadata": {},
   "source": [
    "### 2.5.3.Doğrusal olmayan tahmin ediciler için Reisz tahmin edicisine dayalı duyarlılık analizi"
   ]
  },
  {
   "cell_type": "markdown",
   "metadata": {},
   "source": [
    "Bu, doğrusal olmayan tahmin ediciler için gelişmiş bir çürütme testidir. Ayrıntılar \"Parametrik olmayan nedensel tahmin ediciler için duyarlılık analizi\" not defterindedir."
   ]
  },
  {
   "cell_type": "code",
   "execution_count": null,
   "metadata": {},
   "outputs": [],
   "source": []
  }
 ],
 "metadata": {
  "language_info": {
   "name": "python"
  }
 },
 "nbformat": 4,
 "nbformat_minor": 2
}
