{
 "cells": [
  {
   "cell_type": "markdown",
   "metadata": {},
   "source": [
    "# Nedensel Görevlerin Gerçekleştirilmesi\n",
    "\n",
    "Nedensel ilişkileri modelledikten sonra bir sonraki adıma geçmeye hazırız: nedensel görevleri yerine getirmek. DoWhy aşağıdaki görevleri destekler.\n",
    "\n",
    "* Etki tahmini: X'i değiştirirsek Y'nin ne kadar değişmesine neden olur?\n",
    "* Yükleme (attribution): Bir olay neden meydana geldi? Bir sonuç nasıl açıklanır? Değişkenlerimden hangisi anormalliğe neden oldu?\n",
    "* Karşıolgusal tahmin: Ya X, gözlemlenen değerinden farklı bir değere değiştirilmiş olsaydı? Diğer değişkenlerin değerleri ne olurdu?\n",
    "* Tahmin: Bazı girdi özniteliklerin yeni değerlerine sahip bir girdi verildiğinde Y'nin değeri ne olacaktır?"
   ]
  },
  {
   "cell_type": "markdown",
   "metadata": {},
   "source": [
    "# 1. Nedensel Etki Tahmini"
   ]
  },
  {
   "cell_type": "markdown",
   "metadata": {},
   "source": [
    "![PCM](../img/dowhy-schematic.png)"
   ]
  },
  {
   "cell_type": "markdown",
   "metadata": {},
   "source": [
    "Bir $A$ değişkeninin $Y$ üzerindeki nedensel etkisi, $A$'daki bir değişiklik nedeniyle $Y$'da beklenen değişiklik olarak tanımlanır. Do-calculus gösterimini kullanarak, ortalama nedensel etki şu şekilde yazılabilir: $E[Y \\mid do(A)]$. Bazen yalnızca bir alt popülasyon üzerindeki nedensel etkiyle ilgileniriz veya nedensel etkiyi alt popülasyonlar arasında karşılaştırmak isteriz. Bu durumda, $X, E[Y \\mid d o(A), X]$ ortak değişkenleri kümesi verildiğinde koşullu ortalama nedensel etkiyi (CACE) tahmin edebiliriz.\n",
    "\n",
    "Nedensel etkiyi tahmin etmek dört adım gerektirir:\n",
    "1. Varsayımları kullanarak nedensel bir çıkarım problemini modelleme.\n",
    "2. Bu varsayımlar altında nedensel etki için bir ifade belirleme (\"nedensel tahmin\").\n",
    "3. Eşleştirme veya araçsal değişkenler gibi istatistiksel yöntemleri kullanarak ifadeyi tahmin etme.\n",
    "4. Son olarak çeşitli sağlamlık kontrolleri (robustness checks) kullanarak tahminin geçerliliğini doğrulama.\n",
    "\n",
    "Bu iş akışı DoWhy'daki dört anahtar metod tarafından içerilmektedir:\n",
    "- model (CausalModel veya graph)\n",
    "- tanımlama (identify_effect)\n",
    "- tahmin (estimate_effect)\n",
    "- çürütme (refute_estimate)"
   ]
  },
  {
   "cell_type": "markdown",
   "metadata": {},
   "source": [
    "DoWhy, bu metodları kullanarak çeşitli yöntemleri destekleyen bir nedensel etki tahmin API'si uygular. *Model*, ön bilgiyi (prior knowledge) formel bir nedensel çizge olarak kodlar; *tanımlama*, nedensel etkiyi tanımlamak için çizge tabanlı yöntemler kullanır; *tahmin*, belirlenen tahminin tahmin edilmesi için istatistiksel yöntemler kullanır ve son olarak *çürütme*, varsayımların sağlamlığını test ederek elde edilen tahmini çürütmeye çalışır. Bu nedenle nedensel çizgeyi oluşturduktan sonra nedensel etkiyi tahmin etmenin bir sonraki adımı, etkinin mevcut verilerden tahmin edilip edilemeyeceğini belirlemektir. Başka bir deyişle, bir tahmin algoritmasını dikkate almadan önce bir tanımlama stratejisi belirlemek önemlidir. DoWhy aşağıdaki tanımlama algoritmalarını destekler:\n",
    "- Arka kapı (backdoor)\n",
    "- Ön kapı (frontdoor)\n",
    "- Araç değişken (instrumental variable)\n",
    "- ID algoritması (ID algorithm)"
   ]
  },
  {
   "cell_type": "markdown",
   "metadata": {},
   "source": [
    "Nedensel etki belirlendikten sonra tanımlama stratejisiyle uyumlu bir tahmin yöntemi seçebiliriz. Ortalama nedensel etkiyi tahmin etmek için DoWhy aşağıdaki yöntemleri destekler:\n",
    "\n",
    "* Methods based on matching confounders' values:\n",
    "  - Distance-based matching (DistanceMatchingEstimator)\n",
    "*  Methods based on estimating the treatment assignment\n",
    "  - Propensity-based Stratification (PropensityScoreStratificationEstimator)\n",
    "  - Propensity Score Matching (PropensityScoreMatchingEstimator)\n",
    "  - Inverse Propensity Weighting (PropensityScoreWeightingEstimator)\n",
    "*  Methods based on estimating the outcome model\n",
    "  - Linear Regression (LinearRegressionEstimator)\n",
    "  - Generalized Linear Models, including logistic regression (GeneralizedLinearModelEstimator)\n",
    "* Methods based on the instrumental variable equation\n",
    "  - Binary Instrument/Wald Estimator (InstrumentalVariableEstimator)\n",
    "  - Regression discontinuity(RegressionDiscontinuityEstimator)\n",
    "* Methods for front-door criterion and mediation analysis\n",
    "  - Two-stage linear regression (TwoStageRegressionEstimator)"
   ]
  },
  {
   "cell_type": "markdown",
   "metadata": {},
   "source": [
    "Koşullu ortalama nedensel etkiyi tahmin etmek için DoWhy, EconML yöntemlerinin çağrılmasını destekler.  $\\mathrm{Y}$ sonucu için veri oluşturma süreci doğrusal bir fonksiyon olarak tahmin edilebiliyorsa, CACE tahmini için doğrusal regresyon yöntemini de kullanabilirsiniz."
   ]
  },
  {
   "cell_type": "markdown",
   "metadata": {},
   "source": [
    "## 1.1. Nedensel Etkinin Tanımlanması"
   ]
  },
  {
   "cell_type": "markdown",
   "metadata": {},
   "source": [
    "Nedensel bir çizge ve gözlemlenen değişkenler kümesi göz önüne alındığında, nedensel etkinin belirlenmesi, etkinin mevcut değişkenlerin verileri kullanılarak tahmin edilip edilemeyeceğinin belirlenmesi sürecidir. Formel olarak, tanımlama, hedef nedensel etki ifadesini örneğin $E[Y \\mid do(A)]$ alır ve bunu gözlemlenen veri dağılımı kullanılarak, yani do-operatörü olmadan tahmin edilebilecek bir forma dönüştürür."
   ]
  },
  {
   "cell_type": "markdown",
   "metadata": {},
   "source": [
    "### 1.1.1. Arka Kapı (Backdoor) Kriteri"
   ]
  },
  {
   "cell_type": "markdown",
   "metadata": {},
   "source": [
    "Nedensel etkiyi arka kapı kriteri ile tanımlamak için şunu yazabiliriz:\n",
    "\n",
    "```python\n",
    "# model is an instance of CausalModel\n",
    "identified_estimand = model.identify_effect()\n",
    "print(identified_estimand)\n",
    "```"
   ]
  },
  {
   "cell_type": "markdown",
   "metadata": {},
   "source": [
    "Yukarıdaki kod, varsayılan bir arka kapı ayarlamasını kullanır. Dört temel tür arka kapı ayarı mevcuttur. Bunların her biri geçerli bir arka kapı kümesi döndürmek üzere tasarlanmıştır, ancak döndürülecek değişken kümesini nasıl seçtiklerine göre farklılık gösterirler.\n",
    "\n",
    "1. *maximal-adjustment*: arka kapı kriterini karşılayan maksimum seti döndürür. Bu genellikle geçerli bir arka kapı seti bulmanın en hızlı yoludur, ancak set birçok gereksiz değişken içerebilir.\n",
    "2. *minimal-adjustemnt*: arka kapı kriterini karşılayan minimum sayıda değişken içeren seti döndürür. Bunun yürütülmesi daha uzun sürebilir ve bazen maksimum yineleme sayısı dahilinde herhangi bir arka kapı seti döndürülmeyebilir.\n",
    "3. *exhaustive-search*: tüm geçerli arka kapı kümelerini döndürür. Büyük grafiklerde bunun çalıştırılması biraz zaman alabilir.\n",
    "4. *default*: Bu, minimum ve maksimum ayarlamanın iyi bir karışımıdır. Genellikle hızlı olan maksimum ayarlamayla başlar. Daha sonra minimum ayarlamayı çalıştırır ve en az sayıda değişkene sahip olan seti döndürür.\n",
    "\n",
    "Belirli bir tür arka kapı ayarlamasını kullanmak için *method* argümanını kullanabiliriz.\n",
    "\n",
    "```python\n",
    "identified_estimand = model.identify_effect(method=\"exhaustive-search\")\n",
    "print(identified_estimand)\n",
    "```"
   ]
  },
  {
   "cell_type": "markdown",
   "metadata": {},
   "source": [
    "*identify_effect* yönteminin diğer kimlik türlerini de arayan kullanışlı bir yöntem olduğunu unutmayın. Aşağıda işlevsel API'yi kullanan eşdeğer bir çağrı yer almaktadır.\n",
    "\n",
    "```python\n",
    "from dowhy.causal_identifier import identify_effect_auto, BackdoorAdjustment\n",
    "identified_estimand_auto = identify_effect_auto(\n",
    "   graph,\n",
    "   treatment_name,\n",
    "   outcome_name,\n",
    "   backdoor_adjustment=BackdoorAdjustment.BACKDOOR_MAXIMAL\n",
    ")\n",
    "print(identified_estimand_auto)\n",
    "```"
   ]
  },
  {
   "cell_type": "markdown",
   "metadata": {},
   "source": [
    "### 1.1.2. Ön Kapı (Frontdoor) Kriteri"
   ]
  },
  {
   "cell_type": "markdown",
   "metadata": {},
   "source": [
    "Ön kapı kriterini kullanarak etkiyi tanımlamak için aynı *identify_effect* yöntemini kullanırız. Arka kapı, ön kapı ve araçsal değişkenler arasındaki olası tüm tanımlama stratejilerini kontrol eder.\n",
    "\n",
    "```python\n",
    "# model is an instance of CausalModel\n",
    "identified_estimand = model.identify_effect()\n",
    "print(identified_estimand)\n",
    "```"
   ]
  },
  {
   "cell_type": "markdown",
   "metadata": {},
   "source": [
    "### 1.1.3. Doğal Deneyler ve Araç Değişkenler (Instrumental Variables)"
   ]
  },
  {
   "cell_type": "markdown",
   "metadata": {},
   "source": [
    "Araç değişkenleri kullanarak etkiyi tanımlamak için aynı *identify_effect* yöntemini kullanırız. Arka kapı, ön kapı ve araçsal değişkenler arasındaki olası tüm tanımlama stratejilerini kontrol eder.\n",
    "\n",
    "```python\n",
    "# model is an instance of CausalModel\n",
    "identified_estimand = model.identify_effect()\n",
    "print(identified_estimand)\n",
    "```"
   ]
  },
  {
   "cell_type": "markdown",
   "metadata": {},
   "source": [
    "### 1.1.4. Yeni Tanımlama Stratejileri Keşfetmek için ID Algoritması"
   ]
  },
  {
   "cell_type": "markdown",
   "metadata": {},
   "source": [
    "ID algoritması (Shpitser & Pearl 2006), nedensel etkinin tanımlanmasına yönelik gelişmiş bir algoritmadır. ID algoritmasını kullanmak için yöntem adını belirtebilirsiniz,\n",
    "\n",
    "```python\n",
    "# model is an instance of CausalModel\n",
    "identified_estimand = model.identify_effect(method=\"id-algorithm\")\n",
    "print(identified_estimand)\n",
    "```\n",
    "\n",
    "Alternatif olarak fonksiyonu doğrudan çağırabiliriz.\n",
    "\n",
    "```python\n",
    "from dowhy.causal_identifier import identify_effect_id\n",
    "identified_estimand_id = identify_effect_id(\n",
    "       graph, treatment_name, outcome_name,\n",
    ")\n",
    "# Note that the return type for id_identify_effect is IDExpression and not IdentifiedEstimand\n",
    "print(identified_estimand)\n",
    "```"
   ]
  },
  {
   "cell_type": "markdown",
   "metadata": {},
   "source": [
    "## 1.2. Ortalama Nedensel Etkinin Arka Kapı ile Tahmin Edilmesi"
   ]
  },
  {
   "cell_type": "markdown",
   "metadata": {},
   "source": [
    "Arka kapıyla etki tahmini, koşullu olasılık dağılımının tahmin edilmesine eşdeğerdir. Bir A eylemi, $\\mathrm{Y}$ sonucu ve $\\mathrm{W}$ arka kapı değişkenleri kümesi verildiğinde, nedensel etki şu şekilde tanımlanır: $\\sum_w E[Y \\mid A, W=w] P(W=w)$\n",
    "\n",
    "Koşullu beklentinin çıktısını alabilecek herhangi bir tahminciyi kullanabiliriz. DoWhy, ortalama nedensel etki için aşağıdaki üç tür tahminciyi destekler:\n",
    "\n",
    "* Regresyon tabanlı metodlar\n",
    "* Uzaklık tabanlı eşleştirme (Distance-based matching)\n",
    "* Eğilim tabanlı eşleştirme (Propensity-based matching)\n",
    "* Do-sampler"
   ]
  },
  {
   "cell_type": "markdown",
   "metadata": {},
   "source": [
    "### 1.2.1. Regresyon Tabanlı Metodlar"
   ]
  },
  {
   "cell_type": "markdown",
   "metadata": {},
   "source": [
    "Doğrusal regresyon nedensel etkiyi tahmin etmek için en yaygın yöntemlerden biridir. Y sonucu için veri oluşturma sürecinin doğrusal bir fonksiyon olarak tahmin edilebilmesi faydalıdır.\n",
    "\n",
    "Arka kapı tanımlı bir tahmin göz önüne alındığında, doğrusal regresyon kullanarak nedensel etkiyi tahmin etmek için şunu yazabiliriz:\n",
    "\n",
    "```python\n",
    "estimate = model.estimate_effect(identified_estimand,\n",
    "       method_name=\"backdoor.linear_regression\",\n",
    "       test_significance=True\n",
    ")\n",
    "print(estimate)\n",
    "```\n",
    "Yukarıdaki yöntem, modelin uydurulmasını ve nedensel etkinin tahmin edilmesini birleştirir. Daha fazla kontrol elde etmek için işlevsel API'yi kullanabiliriz.\n",
    "\n",
    "```python\n",
    "# Fit the regression estimator\n",
    "estimator = LinearRegressionEstimator(\n",
    "   identified_estimand=identified_estimand,\n",
    "   test_significance=True,\n",
    ").fit(\n",
    "   data=data[\"df\"],\n",
    "   effect_modifier_names=graph.get_effect_modifiers(treatment_name, outcome_name),\n",
    ")\n",
    "# Estimate the effect given treatment and control value\n",
    "estimate = estimator.estimate_effect(\n",
    "   data=data[\"df\"],\n",
    "   control_value=0,\n",
    "   treatment_value=1,\n",
    "   target_units=\"ate\",\n",
    ")\n",
    "print(estimate)\n",
    "```"
   ]
  },
  {
   "cell_type": "markdown",
   "metadata": {},
   "source": [
    "Doğrusal regresyonun yanı sıra DoWhy genelleştirilmiş doğrusal modelleri de destekler. Bu, lojistik regresyon modeline uymak için kullanılabilir."
   ]
  },
  {
   "cell_type": "markdown",
   "metadata": {},
   "source": [
    "### 1.2.2. Uzaklık Tabanlı Eşleştirme"
   ]
  },
  {
   "cell_type": "markdown",
   "metadata": {},
   "source": [
    "```python\t\n",
    "causal_estimate_dmatch = model.estimate_effect(identified_estimand,\n",
    "                                             method_name=\"backdoor.distance_matching\",\n",
    "                                             target_units=\"att\",\n",
    "                                             method_params={'distance_metric':\"minkowski\", 'p':2})\n",
    "print(causal_estimate_dmatch)\n",
    "```"
   ]
  },
  {
   "cell_type": "markdown",
   "metadata": {},
   "source": [
    "### 1.2.3. Eğilim Tabanlı Eşleştirme\n",
    "\n",
    "Propensity-based methods are backdoor estimation methods that involve estimating the action as a function of the backdoor variables, $P(A \\mid W)$. This fitted function is then used to derive matching, stratification or weighting methods."
   ]
  },
  {
   "cell_type": "markdown",
   "metadata": {},
   "source": [
    "Eğilim tabanlı eşleştirme:\n",
    "\n",
    "```python\n",
    "causal_estimate_match = model.estimate_effect(identified_estimand,\n",
    "                                             method_name=\"backdoor.propensity_score_matching\",\n",
    "                                             target_units=\"atc\")\n",
    "print(causal_estimate_match)\n",
    "print(\"Causal Estimate is \" + str(causal_estimate_match.value))\n",
    "```"
   ]
  },
  {
   "cell_type": "markdown",
   "metadata": {},
   "source": [
    "Eğilim tabanlı sınıflandırma:\n",
    "\n",
    "```python\n",
    "causal_estimate_strat = model.estimate_effect(identified_estimand,\n",
    "                                             method_name=\"backdoor.propensity_score_stratification\",\n",
    "                                             target_units=\"att\")\n",
    "print(causal_estimate_strat)\n",
    "print(\"Causal Estimate is \" + str(causal_estimate_strat.value))\n",
    "```"
   ]
  },
  {
   "cell_type": "markdown",
   "metadata": {},
   "source": [
    "Eğilim tabanlı ağırlıklandırma:\n",
    "\n",
    "```python\n",
    "causal_estimate_ipw = model.estimate_effect(identified_estimand,\n",
    "                                           method_name=\"backdoor.propensity_score_weighting\",\n",
    "                                           target_units = \"ate\",\n",
    "                                           method_params={\"weighting_scheme\":\"ips_weight\"})\n",
    "print(causal_estimate_ipw)\n",
    "print(\"Causal Estimate is \" + str(causal_estimate_ipw.value))\n",
    "```"
   ]
  },
  {
   "cell_type": "markdown",
   "metadata": {},
   "source": [
    "### 1.2.4. Do-Sampler"
   ]
  },
  {
   "cell_type": "markdown",
   "metadata": {},
   "source": [
    "Potansiyel çıktılara (potential outcomes) dayalı tahmincilerin çoğu belirli karşıtlığı (contrast) tahmin etmeye odaklanırken, Pearlian çıkarımı (Pearlian inference), diğer ilgilenilen istatistikleri türetmek için kullanılabilen $\\mathrm{Y}$ sonuçlarının ortak dağılımı gibi daha temel niceliklere odaklanır.\n",
    "\n",
    "Genellikle bir olasılık dağılımını parametrik olmayan şekilde temsil etmek zordur. Yapabilseniz bile, onu oluşturmak için kullandığınız verilerle ilgili sonlu örnek problemlerini gözden kaçırmak istemezsiniz. Bu sorunları göz önünde bulundurarak müdahaleses dağılımları (interventional distributions) \"do-sampler\" adı verilen bir nesneyle örnekleyerek temsil etmeye karar verdik. Bu örneklerle müdahalesel verilerimizin sonlu örnek istatistiklerini hesaplamayı umabiliriz. Bu tür örneklerin çoğunu bootstrap yaparsak, bu istatistikler için iyi örnekleme dağılımları elde etmeyi bile umut edebiliriz.\n",
    "\n",
    "Kullanıcı bunun hala aktif bir araştırma alanı olduğunu unutmamalıdır, bu nedenle örnekleyicilerin bootstraplı hata aralıklarına fazla güvenmemeye dikkat etmelisiniz. Örnekleyicilerin sonuç dağılımından örnekleme yaptığını ve dolayısıyla örnekten örneğe önemli ölçüde farklılık göstereceğini unutmayın. Sonuçları hesaplamak amacıyla bunları kullanmak için, ilgilendiğiniz istatistiğin sonsal varyansı hakkında fikir edinmek amacıyla bu türden birkaç örnek oluşturmanız önerilir."
   ]
  },
  {
   "cell_type": "markdown",
   "metadata": {},
   "source": [
    "***Pearlian Müdahaleler***\n",
    "\n",
    "Pearlian nedensel modele müdahale fikrini takiben, örnekleyicilerimiz bir dizi adımı uygular:\n",
    "- Disrupt causes\n",
    "- Make effective\n",
    "- Propagate and sample\n",
    "\n",
    "İlk aşamada, müdahale ettiğimiz tüm değişkenlerin kenarlarını kesmeyi hayal ediyoruz. İkinci aşamada bu değişkenlerin değerini müdahale miktarlarına ayarlıyoruz. Üçüncü aşamada, bir örnekleme prosedürüyle müdahale sonuçlarını hesaplamak için bu değeri modelimiz aracılığıyla ileriye doğru yayıyoruz.\n",
    "\n",
    "Pratikte bu adımları uygulayabileceğimiz birçok yol var. Modeli PyMC3'te doğrusal bir Bayes ağı olarak oluşturduğumuzda bunlar en açık şekilde ortaya çıkar; bu, MCMC'nin örnekleyicisinin temelini oluşturan şeydir. Bu durumda, verilere bir bayes ağı uydururuz, ardından müdahalesel ağı temsil eden yeni bir ağ oluştururuz. Yapısal denklemler, ilk ağa uygun parametrelerle ayarlanır ve kendi örneğimizi elde etmek için bu yeni ağdan örnekleme yaparız.\n",
    "\n",
    "Örnekleyicinin ağırlıklandırılmasında, eğilim skoru (propensity score) tahmini yoluyla nedensel duruma yönelik seçimi hesaba katarak soyut olarak \"nedenleri bozmayı\" düşünüyoruz. Bu puanlar, arka kapı yollarını kapatmak için kullanılan bilgileri içerir ve dolayısıyla nedensel duruma geçişle aynı istatistiksel etkiye sahiptir. Veri setimizin alt kümesini nedensel durumun doğru değerine sahip seçerek tedaviyi etkili hale getiriyoruz. Son olarak, örneğimizi elde etmek için ters eğilim ağırlıklandırmasını kullanarak ağırlıklı rastgele bir örnek oluşturduk.\n",
    "\n",
    "Bu üç adımı uygulamanın başka yolları da var ancak formül aynı. Kendi örnekleyicinizi oluşturmak istiyorsanız bunları geçersiz kılmanız gereken soyut sınıf yöntemleri olarak soyutladık!"
   ]
  },
  {
   "cell_type": "markdown",
   "metadata": {},
   "source": [
    "***Durumsallık (Statefulness)***\n",
    "\n",
    "Yüksek seviye pandas API'si yoluyla erişildiğinde do-sampler varsayılan olarak durum bilgisizdir. Bu, onunla çalışmayı sezgisel hale getirir ve pandas.DataFrame.causal.do'ya tekrarlanan çağrılarla farklı örnekler oluşturabilirsiniz. Durum bilgisi yapılabilir, bu bazen faydalıdır.\n",
    "\n",
    "Daha önce bahsettiğimiz 3 aşamalı süreç, üç aşamanın her birinden dahili bir pandas.DataFrame geçirilerek ancak geçici olarak kabul edilerek gerçekleştirilir. Sonuç döndürülmeden önce dahili veri çerçevesi varsayılan olarak sıfırlanır.\n",
    "\n",
    "Örnek oluşturma arasında do-sampler durumu korumak çok daha verimli olabilir. Bu, özellikle MCMC do-sampler, kernel-density-sampler ve weighting-sampler'da olduğu gibi, 1. adım pahalı bir modelin takılmasını gerektirdiğinde geçerlidir. Modeli her örnek için yeniden uydurmak yerine, modeli bir kez uydurmak ve ardından do-samplerdan birçok örnek oluşturmak istersiniz. Pandas.DataFrame.causal.do yöntemini çağırdığınızda kwarg stateful=True ayarını yaparak bunu yapabilirsiniz. Veri çerçevesinin durumunu sıfırlamak için (modelin yanı sıra dahili veri çerçevesinin de silinmesi), pandas.DataFrame.causal.reset yöntemini çağırabilirsiniz.\n",
    "\n",
    "Alt düzey API aracılığıyla örnekleyici varsayılan olarak durum bilgilidir. Varsayım, düşük seviyeli API kullanan bir \"uzman kullanıcının\" örnekleme süreci üzerinde daha fazla kontrol isteyeceği yönündedir. Bu durumda durum, örnekleme sırasında iletilen veri çerçevesinin bir kopyası olan dahili veri çerçevesi self._df tarafından taşınır. Orijinal veri çerçevesi self._data'da tutulur ve kullanıcı durumu sıfırladığında kullanılır."
   ]
  },
  {
   "cell_type": "markdown",
   "metadata": {},
   "source": [
    "## 1.3. Ortalama Nedensel Etkinin Doğal Deneyler ile Tahmin Edilmesi"
   ]
  },
  {
   "cell_type": "markdown",
   "metadata": {},
   "source": [
    "Doğal deneyler, araçsal bir değişkenin eylemi etkilediği veya regresyon süreksizliğinin olduğu durumları içerir. Araçsal değişkenler yöntemi, doğal deneyler için ortak bir tanımlama stratejisidir. Aşağıda bu tanımlama stratejisinden türetilen iki tahmin ediciyi gösteriyoruz."
   ]
  },
  {
   "cell_type": "markdown",
   "metadata": {},
   "source": [
    "İkili eylem için araçsal değişken tahmincisi:\n",
    "\n",
    "```python\n",
    "causal_estimate_iv = model.estimate_effect(identified_estimand,\n",
    "       method_name=\"iv.instrumental_variable\", method_params = {'iv_instrument_name': 'Z0'})\n",
    "print(causal_estimate_iv)\n",
    "print(\"Causal Estimate is \" + str(causal_estimate_iv.value))\n",
    "```\n",
    "\n",
    "Regresyon süreksizliği için tahminci:\n",
    "\n",
    "```python\n",
    "causal_estimate_regdist = model.estimate_effect(identified_estimand,\n",
    "       method_name=\"iv.regression_discontinuity\",\n",
    "       method_params={'rd_variable_name':'Z1',\n",
    "                      'rd_threshold_value':0.5,\n",
    "                      'rd_bandwidth': 0.15})\n",
    "print(causal_estimate_regdist)\n",
    "print(\"Causal Estimate is \" + str(causal_estimate_regdist.value))\n",
    "```"
   ]
  },
  {
   "cell_type": "markdown",
   "metadata": {},
   "source": [
    "## 1.4. Koşullu Ortalama Nedensel Etkinin Tahmin Edilmesi"
   ]
  },
  {
   "cell_type": "markdown",
   "metadata": {},
   "source": [
    "Koşullu ortalama nedensel etki (CACE) tahmini için Do Why, EconML paketini kullanır. EconML paketindeki tüm yöntemler DoWhy'ın tahmin API'sinden çağrılabilir, böylece tahmin yöntemleri için ortak bir arayüz sağlanır. Ayrıca CACE tahmini için regresyon yöntemleri de kullanılabilir.\n",
    "\n",
    "CACE tahmini için efekt değiştiricileri doğrudan CausalModel'i çağırırken veya grafiğin bir parçası olarak belirtmemiz gerekir."
   ]
  },
  {
   "cell_type": "markdown",
   "metadata": {},
   "source": [
    "Doğrusal regresyon:\n",
    "\n",
    "```python\n",
    "linear_estimate = model.estimate_effect(identified_estimand,\n",
    "                                       method_name=\"backdoor.linear_regression\",\n",
    "                                      control_value=0,\n",
    "                                      treatment_value=1)\n",
    "print(linear_estimate)\n",
    "```"
   ]
  },
  {
   "cell_type": "markdown",
   "metadata": {},
   "source": [
    "EconML'den DML metodu:\n",
    "\n",
    "```python\n",
    "from sklearn.preprocessing import PolynomialFeatures\n",
    "from sklearn.linear_model import LassoCV\n",
    "from sklearn.ensemble import GradientBoostingRegressor\n",
    "dml_estimate = model.estimate_effect(identified_estimand, method_name=\"backdoor.econml.dml.DML\",\n",
    "                                    control_value = 0,\n",
    "                                    treatment_value = 1,\n",
    "                                target_units = lambda df: df[\"X0\"]>1,  # condition used for CATE\n",
    "                                confidence_intervals=False,\n",
    "                               method_params={\"init_params\":{'model_y':GradientBoostingRegressor(),\n",
    "                                                             'model_t': GradientBoostingRegressor(),\n",
    "                                                             \"model_final\":LassoCV(fit_intercept=False),\n",
    "                                                             'featurizer':PolynomialFeatures(degree=1, include_bias=False)},\n",
    "                                              \"fit_params\":{}})\n",
    "\n",
    "```"
   ]
  },
  {
   "cell_type": "markdown",
   "metadata": {},
   "source": [
    "## 1.5. Ortalama Nedensel Etkinin GCM ile Tahmin Edilmesi"
   ]
  },
  {
   "cell_type": "markdown",
   "metadata": {},
   "source": [
    "En yaygın nedensel sorulardan biri, belirli bir hedef miktarın iki farklı müdahale/tedavi altında ne kadar farklı olduğudur. Bu aynı zamanda ortalama tedavi etkisi (ATE) veya daha genel olarak ortalama nedensel etki (ACE) olarak da bilinir. En basit biçim, iki tedavinin karşılaştırılmasıdır; yani, verilen A tedavisi ile B tedavisi arasındaki ortalama hedef miktarın arasındaki fark nedir? Örneğin, belirli bir ilaçla tedavi edilen hastalar ( $T:=1$ ), hiç tedavi edilmeyen $(T:=0)$ hastalardan daha hızlı iyileşir mi?. ACE API, bir hedef düğümdeki bu tür farklılıkları tahmin etmeye izin verir, yani $\\mathbb{E}[Y \\mid \\operatorname{do}(T:=A)]-\\mathbb{E}[Y \\mid \\operatorname{do}(T:=B)]$"
   ]
  },
  {
   "cell_type": "markdown",
   "metadata": {},
   "source": [
    "***Nasıl Kullanılır***\n",
    "\n",
    "Bunu örnekleyelim:"
   ]
  },
  {
   "cell_type": "code",
   "execution_count": 1,
   "metadata": {},
   "outputs": [],
   "source": [
    "import warnings\n",
    "warnings.filterwarnings('ignore')\n",
    "\n",
    "import networkx as nx\n",
    "import numpy as np \n",
    "import pandas as pd\n",
    "import dowhy.gcm as gcm\n",
    "\n",
    "X0 = np.random.normal(0, 0.2, 1000)\n",
    "T = (X0 > 0).astype(float)\n",
    "X1 = np.random.normal(0, 0.2, 1000) + 1.5 * T\n",
    "Y = X1 + np.random.normal(0, 0.1, 1000)\n",
    "data = pd.DataFrame(dict(T=T, X0=X0, X1=X1, Y=Y))"
   ]
  },
  {
   "cell_type": "markdown",
   "metadata": {},
   "source": [
    "Burada $T$'nin ikili olduğunu ve 1, aksi halde 0 ise $Y$'a 1,5 eklediğini görüyoruz. Her zamanki gibi neden-sonuç ilişkilerini modelleyelim ve bunu verilere uyduralım:"
   ]
  },
  {
   "cell_type": "code",
   "execution_count": 5,
   "metadata": {},
   "outputs": [
    {
     "name": "stderr",
     "output_type": "stream",
     "text": [
      "Fitting causal mechanism of node Y: 100%|██████████| 4/4 [00:00<00:00,  9.52it/s] \n"
     ]
    }
   ],
   "source": [
    "from dowhy import CausalModel\n",
    "import dowhy.gcm as gcm\n",
    "\n",
    "causal_model = gcm.ProbabilisticCausalModel(nx.DiGraph([('X0', 'T'), ('T', 'X1'), ('X1', 'Y')]))\n",
    "gcm.auto.assign_causal_mechanisms(causal_model, data)\n",
    "gcm.fit(causal_model, data)"
   ]
  },
  {
   "cell_type": "markdown",
   "metadata": {},
   "source": [
    "Artık şu soruyu yanıtlamaya hazırız: \"$T:=1$ ve $T:=0$ ayarının nedensel etkisi nedir?\""
   ]
  },
  {
   "cell_type": "code",
   "execution_count": 6,
   "metadata": {},
   "outputs": [
    {
     "data": {
      "image/png": "[encoded data removed]",
      "text/latex": [
       "$\\displaystyle 1.49321692826235$"
      ],
      "text/plain": [
       "1.493216928262352"
      ]
     },
     "execution_count": 6,
     "metadata": {},
     "output_type": "execute_result"
    }
   ],
   "source": [
    "gcm.average_causal_effect(causal_model,\n",
    "                         'Y',\n",
    "                         interventions_alternative={'T': lambda x: 1},\n",
    "                         interventions_reference={'T': lambda x: 0},\n",
    "                         num_samples_to_draw=1000)"
   ]
  },
  {
   "cell_type": "markdown",
   "metadata": {},
   "source": [
    "Ortalama etki $\\sim 1,5$'dır ve bu bizim veri oluşturma sürecimizle örtüşmektedir. Yöntem, müdahalelerin olduğu bir sözlük veri yapısı gerektirdiğinden, birden fazla düğüme de müdahale edebilir ve/veya daha karmaşık müdahaleler belirleyebiliriz.\n",
    "\n",
    "Pratikte nedensel grafiği doğru şekilde belirlemek zor görünse de, genellikle doğru nedensel sıraya sahip bir grafiği belirtmenin yeterli olduğunu unutmayın. Bu, herhangi bir nedensellik ilişkisi olmadığı sürece, yukarı yöndeki düğümlerden aşağı yöndeki bir düğüme çok fazla kenar eklenmesinin, nedensel etkileri tahmin ederken yine de makul sonuçlar sağlayacağı anlamına gelir. Yukarıdaki örnekte $X 0 \\rightarrow Y$ ve $T \\rightarrow Y$ kenarını eklersek aynı sonucu elde ederiz:"
   ]
  },
  {
   "cell_type": "code",
   "execution_count": 7,
   "metadata": {},
   "outputs": [
    {
     "name": "stderr",
     "output_type": "stream",
     "text": [
      "Fitting causal mechanism of node Y: 100%|██████████| 4/4 [00:00<00:00, 47.90it/s]\n"
     ]
    },
    {
     "data": {
      "image/png": "[encoded data removed]",
      "text/latex": [
       "$\\displaystyle 1.47500288393478$"
      ],
      "text/plain": [
       "1.475002883934776"
      ]
     },
     "execution_count": 7,
     "metadata": {},
     "output_type": "execute_result"
    }
   ],
   "source": [
    "causal_model.graph.add_edge('X0', 'Y')\n",
    "causal_model.graph.add_edge('T', 'Y')\n",
    "gcm.auto.assign_causal_mechanisms(causal_model, data, override_models=True)\n",
    "gcm.fit(causal_model, data)\n",
    "gcm.average_causal_effect(causal_model,\n",
    "                         'Y',\n",
    "                         interventions_alternative={'T': lambda x: 1},\n",
    "                         interventions_reference={'T': lambda x: 0},\n",
    "                         num_samples_to_draw=1000)"
   ]
  },
  {
   "cell_type": "markdown",
   "metadata": {},
   "source": [
    "Modellenmemiş kök düğümler arasındaki potansiyel etkileşimleri daha fazla hesaba katmak için yenilerini oluşturmak yerine gözlemsel verileri de iletebiliriz:"
   ]
  },
  {
   "cell_type": "code",
   "execution_count": 8,
   "metadata": {},
   "outputs": [
    {
     "data": {
      "image/png": "[encoded data removed]",
      "text/latex": [
       "$\\displaystyle 1.48041147021698$"
      ],
      "text/plain": [
       "1.4804114702169755"
      ]
     },
     "execution_count": 8,
     "metadata": {},
     "output_type": "execute_result"
    }
   ],
   "source": [
    "gcm.average_causal_effect(causal_model,\n",
    "                         'Y',\n",
    "                         interventions_alternative={'T': lambda x: 1},\n",
    "                         interventions_reference={'T': lambda x: 0},\n",
    "                         observed_data=data)"
   ]
  },
  {
   "cell_type": "markdown",
   "metadata": {},
   "source": [
    "***Yöntemin Anlaşılması***\n",
    "\n",
    "Ortalama nedensel etkiyi tahmin etmek basittir, çünkü bunun yalnızca bir hedef düğümün iki beklentisini ilgili müdahale dağılımlarından alınan örneklere dayalı olarak karşılaştırması gerekir. Yani ACE tahminini aşağıdaki adımlara indirgeyebiliriz:\n",
    "1. $\\mathrm{A}$ tedavisi altındaki $Y$'nin müdahalesel dağılımından örnekler çizilir.\n",
    "2. Tedavi B kapsamındaki $Y$'nin müdahalesel dağılımından örnekler çizilir.\n",
    "3. Bunların ortalamalar hesaplanır.\n",
    "4. Araçların farkları alınır. Bu, $\\mathbb{E}[Y \\mid \\operatorname{do}(T:=A)]-\\mathbb{E}[Y \\mid \\mathrm{do}(T:=B)]$'dir, burada Müdahale türlerini veya müdahale etmek istediğimiz değişkenleri kısıtlamamıza gerek yok."
   ]
  },
  {
   "cell_type": "markdown",
   "metadata": {},
   "source": [
    "# 2.Nedensel Etkinin Ölçülmesi"
   ]
  },
  {
   "cell_type": "markdown",
   "metadata": {},
   "source": [
    "DoWhy, ortalama toplam nedensel etkiyi tahmin etmenin yanı sıra aracılık analizi (mediation analysis), iki düğüm arasındaki doğrudan bağlantı kuvvetini tahmin etmek ve nedensel bir grafikteki düğümlerin içsel nedensel etkisini tahmin etmek için de kullanılabilir.\n",
    "\n",
    "Bu yöntemler arasındaki temel farklar şunlardır:\n",
    "\n",
    "**Aracılık Analizi (Mediation Analysis)**: Aracılık analizi öncelikle bir tedavinin sonuç üzerindeki toplam etkisini bir veya daha fazla aracı değişken aracılığıyla doğrudan ve dolaylı etkilere ayırmayı amaçlar. Odak noktası, etkinin ne kadarının doğrudan tedaviden sonuca aktarıldığını ve ne kadarının diğer değişkenler aracılığıyla aracılık ettiğini anlamaktır.\n",
    "\n",
    "**Doğrudan Bağlantı Gücü (Direct Arrow Strength)**: Bu yöntem, bir çizgedeki bir kenar kaldırıldığında dağılımdaki değişikliği ölçerek bir değişkenin diğeri üzerindeki nedensel etkisini ölçer. Değişikliği tahmin etmek için varyanstaki fark veya bir kenarı kaldırırken göreceli entropi gibi belirli bir ölçü kullanır. Bu, belirli bir nedensel bağlantının kaldırılmasının hedef değişkeni nasıl etkilediğinin anlaşılmasını sağlar ve bu sayede, doğrusal olmayan ilişkiler için iyi tanımlanmış belirli bir nedensel bağlantının gücünü temsil eden tek bir değer sağlar.\n",
    "\n",
    "**İçsel Nedensel Katkı (Intrinsic Causal Contribution)**: Bu yöntem, atalarından miras alınan etkilerden bağımsız olarak, bir çizgedeki bir düğümün içsel katkısını tahmin etmeye odaklanır. Her bir düğümün yukarı yöndeki gürültü terimlerinin bir fonksiyonu olarak temsil edilmesini içerir ve her bir düğümün gürültü terimlerinin etkisini ölçmek için yapıyı koruyan müdahaleler kullanır. Bu yöntem, her bir düğümün eklediği doğal bilgiyi atalarından elde edilen bilgilerden ayırır. Eklenen bilgiler (koşullu) varyans veya entropi vb. ölçümlerle ölçülebilir."
   ]
  },
  {
   "cell_type": "markdown",
   "metadata": {},
   "source": [
    "## 2.1. Aracılık Analizi: Doğal doğrudan ve dolaylı etkilerin tahmin edilmesi"
   ]
  },
  {
   "cell_type": "markdown",
   "metadata": {},
   "source": [
    "Aracılık analizi, nedensel bir etkinin belirli bir yol aracılığıyla ne ölçüde uygulandığını ölçmek için kullanılabilir. Do Why, *doğal doğrudan etkinin* ve *doğal dolaylı etkinin* tahminini destekler:\n",
    "\n",
    "* Doğal doğrudan etki: v0->y yolundan kaynaklanan etki \n",
    "* Doğal dolaylı etki: v0->FDO->y yolundan kaynaklanan etki (FD0 aracılığıyla).\n",
    "\n",
    "DoWhy'ın etki tahmin çerçevesini kullanarak estimand_type bağımsız değişkenini buna göre ayarlayarak bir aracılık analizi gerçekleştirebiliriz:"
   ]
  },
  {
   "cell_type": "markdown",
   "metadata": {},
   "source": [
    "Tanımlama:\n",
    "\n",
    "```python\n",
    "# Natural direct effect (nde)\n",
    "identified_estimand_nde = model.identify_effect(estimand_type=\"nonparametric-nde\",\n",
    "                                                proceed_when_unidentifiable=True)\n",
    "print(identified_estimand_nde)\n",
    "```\n",
    "\n",
    "```python\t\n",
    "# Natural indirect effect (nie)\n",
    "identified_estimand_nie = model.identify_effect(estimand_type=\"nonparametric-nie\",\n",
    "                                                proceed_when_unidentifiable=True)\n",
    "print(identified_estimand_nie)\n",
    "```"
   ]
  },
  {
   "cell_type": "markdown",
   "metadata": {},
   "source": [
    "Tahmin:\n",
    "\n",
    "```python\n",
    "import dowhy.causal_estimators.linear_regression_estimator\n",
    "causal_estimate_nie = model.estimate_effect(identified_estimand_nie,\n",
    "                                            method_name=\"mediation.two_stage_regression\",\n",
    "                                            confidence_intervals=False,\n",
    "                                            test_significance=False,\n",
    "                                            method_params = {\n",
    "                                                'first_stage_model': dowhy.causal_estimators.linear_regression_estimator.LinearRegressionEstimator,\n",
    "                                                'second_stage_model': dowhy.causal_estimators.linear_regression_estimator.LinearRegressionEstimator\n",
    "                                            })\n",
    "print(causal_estimate_nie)\n",
    "```\n",
    "\n",
    "```python\n",
    "causal_estimate_nde = model.estimate_effect(identified_estimand_nde,\n",
    "                                            method_name=\"mediation.two_stage_regression\",\n",
    "                                            confidence_intervals=False,\n",
    "                                            test_significance=False,\n",
    "                                            method_params = {\n",
    "                                              'first_stage_model': dowhy.causal_estimators.linear_regression_estimator.LinearRegressionEstimator,\n",
    "                                              'second_stage_model': dowhy.causal_estimators.linear_regression_estimator.LinearRegressionEstimator\n",
    "                                            })\n",
    "print(causal_estimate_nde)\n",
    "```"
   ]
  },
  {
   "cell_type": "markdown",
   "metadata": {},
   "source": [
    "## 2.2. Doğrudan Etki: Doğrudan Bağlantı Gücünün Tahmin Edilmesi"
   ]
  },
  {
   "cell_type": "markdown",
   "metadata": {},
   "source": [
    "Bir bağlantının gücünü ölçerek şu soruyu yanıtlıyoruz:Bir nedenden onun doğrudan sonucuna doğru olan nedensel etki ne kadar güçlüdür?\n",
    "\n",
    "Literatürde nedensel etkileri ölçmek için farklı tanımlar olsa da DoWhy, bir ana düğümün çocuk üzerindeki doğrudan etkisini ölçmek için, diğer düğümler üzerindeki yollardan kaynaklanan etkilerin göz ardı edildiği bir uygulama sunmaktadır. Bu yöntem şu makaleye dayanmaktadır:\n",
    "\n",
    "Dominik Janzing, David Balduzzi, Moritz Grosse-Wentrup, Bernhard Schölkopf. Quantifying causal influences The Annals of Statistics, Vol. 41, No. 5, 2324-2358, 2013."
   ]
  },
  {
   "cell_type": "markdown",
   "metadata": {},
   "source": [
    "***Nasıl Kullanılır***\n",
    "\n",
    "Öncelikle veri türetelim:"
   ]
  },
  {
   "cell_type": "code",
   "execution_count": 9,
   "metadata": {},
   "outputs": [],
   "source": [
    "import numpy as np\n",
    "import pandas as pd\n",
    "import networkx as nx\n",
    "from dowhy import gcm\n",
    "np.random.seed(10)  # to reproduce these results"
   ]
  },
  {
   "cell_type": "code",
   "execution_count": 10,
   "metadata": {},
   "outputs": [],
   "source": [
    "Z = np.random.normal(loc=0, scale=1, size=1000)\n",
    "X = 2*Z + np.random.normal(loc=0, scale=1, size=1000)\n",
    "Y = 3*X + 4*Z + np.random.normal(loc=0, scale=1, size=1000)\n",
    "data = pd.DataFrame(dict(X=X, Y=Y, Z=Z))"
   ]
  },
  {
   "cell_type": "markdown",
   "metadata": {},
   "source": [
    "Daha sonra neden-sonuç ilişkilerini Do Why'ın GCM çerçevesini kullanarak olasılıksal bir nedensel model olarak modelleyip verilere uyduracağız:"
   ]
  },
  {
   "cell_type": "code",
   "execution_count": 11,
   "metadata": {},
   "outputs": [
    {
     "name": "stderr",
     "output_type": "stream",
     "text": [
      "Fitting causal mechanism of node X: 100%|██████████| 3/3 [00:00<00:00, 750.01it/s]\n"
     ]
    }
   ],
   "source": [
    "causal_model = gcm.ProbabilisticCausalModel(nx.DiGraph([('Z', 'Y'), ('Z', 'X'), ('X', 'Y')]))\n",
    "gcm.auto.assign_causal_mechanisms(causal_model, data)\n",
    "gcm.fit(causal_model, data)"
   ]
  },
  {
   "cell_type": "markdown",
   "metadata": {},
   "source": [
    "Son olarak, ilgilenilen bir düğüme (örneğin, $Y$) gelen bağlantıların gücünü tahmin edebiliriz."
   ]
  },
  {
   "cell_type": "code",
   "execution_count": 12,
   "metadata": {},
   "outputs": [
    {
     "data": {
      "text/plain": [
       "{('X', 'Y'): 40.853078507275704, ('Z', 'Y'): 15.175900631774171}"
      ]
     },
     "execution_count": 12,
     "metadata": {},
     "output_type": "execute_result"
    }
   ],
   "source": [
    "strength = gcm.arrow_strength(causal_model, 'Y')\n",
    "strength"
   ]
  },
  {
   "cell_type": "markdown",
   "metadata": {},
   "source": [
    "Sonuçların yorumlanması: Varsayılan olarak, bağlantı kuvvetleri için skaler değerlerin ölçüm birimi, sürekli gerçek değerli bir hedef için varyans ve kategorik bir hedef için (yani KL sapması) bit sayısıdır. Yukarıda, $X$'dan $Y$'a ( $\\sim 40.85$) doğrudan etkinin, $Z$'dan $Y$'ye (15.17) doğrudan etkiden ($\\sim 2.7$ kat) daha güçlü olduğunu gözlemliyoruz. Kabaca söylemek gerekirse, okun $X$'dan $Y$'a \"kaldırılması\" $Y$'nin varyansını 40.85 birim artırırken, $Z \\rightarrow Y$'ın kaldırılması $Y$'nin varyansını $\\sim 15.18$ birim artırır.\n",
    "\n",
    "Yöntemi anlama bölümünde, bir kenarı \"kaldırmanın\" ne anlama geldiğini açıklıyoruz. Özellikle bir bağlantının gücünü ölçmeye yönelik yöntemimizin arkasındaki bilimi kısaca açıklıyoruz."
   ]
  },
  {
   "cell_type": "markdown",
   "metadata": {},
   "source": [
    "***Yöntemin Anlaşılması***"
   ]
  },
  {
   "cell_type": "markdown",
   "metadata": {},
   "source": [
    "Yöntemi anlamak için aşağıdaki grafiği kullanacağız:"
   ]
  },
  {
   "cell_type": "markdown",
   "metadata": {},
   "source": [
    "![PCM](../img/arrow_strength_example.png)"
   ]
  },
  {
   "cell_type": "markdown",
   "metadata": {},
   "source": [
    "Burada, $Z$ düğümünden $Y$ düğümüne giden bağlantının gücünü ölçmek istiyoruz, bunu yaparken $X$ üzerinden dolaylı etkileri göz ardı ediyoruz. Bunu başarmak için öncelikle $P$ değişkenlerinin ortak dağılımını, ebeveynleri verilen her değişkenin koşullu dağılımlarının bir çarpımı yoluyla nedensel grafiklerinden elde edebileceğimizi hatırlayın.\n",
    "\n",
    "Daha sonra kenarı $Z$'dan $Y$'a keserek ve bir i.i.d kullanarak yeni bir $P_{Z \\rightarrow Y}$ ortak dağılımı yaratırız. $Y$'a girdi olarak $Z$ kopyası (şekilde $Z^{\\prime}$ olarak gösterilmiştir). $Z^{\\prime}$ dağılımı, gözlemlenen $Z$ değerlerinin rastgele karıştırılmasıyla pratik olarak simüle edilebilir. $Z$ ile $Y$ arasındaki okun kuvveti, $C_{Z \\rightarrow Y}$ olarak temsil edilir, daha sonra kesme sonrası dağılım arasındaki mesafe olarak hesaplanır:math: $P_{\\_}\\{Z $ ila $Y\\}$ ve orijinal ortak dağıtım $P$ :\n",
    "\n",
    "$$\n",
    "C_{Z \\rightarrow Y}:=D\\left(P \\| P_{Z \\rightarrow Y}\\right)\n",
    "$$"
   ]
  },
  {
   "cell_type": "markdown",
   "metadata": {},
   "source": [
    "Bağlantı kuvvetini hesaplamak için kullanılan uzaklık ölçüsü $D$, varyansların farkı veya KL sapması gibi herhangi bir uygun ölçü olabilir. Varsayılan olarak kitaplık, veri türüne bağlı olarak belirli bir ölçü kullanır ancak bu, kullanım durumuna göre tamamen özelleştirilebilir.\n",
    "\n",
    "Kenarı keserken, orijinal ve kesme sonrası bağlantı dağılımı arasında yalnızca hedef değişkenin nedensel mekanizmasının değiştiğini unutmayın. Sonuç olarak hedefin marjinal dağılımındaki herhangi bir değişiklik, hedefin nedensel mekanizmasındaki değişiklikten kaynaklanmaktadır. Bu aynı zamanda bir kenarı kaldırdığımızda hedefin marjinal dağılımının özelliğindeki değişiklik (örneğin varyans) açısından okun gücünü ölçmemize de olanak tanır."
   ]
  },
  {
   "cell_type": "markdown",
   "metadata": {},
   "source": [
    "Burada uzaklık ölçütü özelleştirilebilir:"
   ]
  },
  {
   "cell_type": "code",
   "execution_count": 13,
   "metadata": {},
   "outputs": [],
   "source": [
    "def mean_diff(Y_old, Y_new): \n",
    "    return np.mean(Y_new) - np.mean(Y_old)"
   ]
  },
  {
   "cell_type": "code",
   "execution_count": 14,
   "metadata": {},
   "outputs": [
    {
     "data": {
      "text/plain": [
       "{('X', 'Y'): 0.13090621837798588, ('Z', 'Y'): -0.07996403913133228}"
      ]
     },
     "execution_count": 14,
     "metadata": {},
     "output_type": "execute_result"
    }
   ],
   "source": [
    "gcm.arrow_strength(causal_model, 'Y', difference_estimation_func=mean_diff)"
   ]
  },
  {
   "cell_type": "markdown",
   "metadata": {},
   "source": [
    "Buradaki küçük sonuçlar beklenebilir; örneğimizde, gelen bağlantıyı kaldırsak da kaldırmasak da $Y$'ın ortalama değeri 0 olarak kalır. Bu nedenle, $Y$'a gelen bağlantıların ortalama üzerindeki etkisi göz ardı edilebilir düzeyde olmalıdır.\n",
    "\n",
    "Özetle bağlantı kuvveti farklı birimlerle (örn. ortalama, varyans, bit) ölçülebilir. Bu nedenle, kullanıcılara bu yöntemi pratikte uygulamak için verilere ve yorumlara dayalı olarak anlamlı bir birim seçmelerini tavsiye ediyoruz."
   ]
  },
  {
   "cell_type": "markdown",
   "metadata": {},
   "source": [
    "## 2.3. İçsel Nedensel Etkinin Ölçülmesi"
   ]
  },
  {
   "cell_type": "markdown",
   "metadata": {},
   "source": [
    "İçsel nedensel etkiyi ölçerek şu soruyu yanıtlıyoruz: Yukarı yöndeki bir düğümün, yukarı yöndeki düğümün ebeveynlerinden miras alınmayan bir hedef düğüm üzerindeki nedensel etkisi ne kadar güçlüdür?\n",
    "\n",
    "Doğal olarak, soyundan gelenlerin hedef düğüm üzerinde sıfır içsel nedensel etkisi olacaktır. Bu yöntem şu makaleye dayanmaktadır:\n",
    "\n",
    "Dominik Janzing, Patrick Blöbaum, Lenon Minorics, Philipp Faller, Atalanti Mastakouri. Quantifying intrinsic causal contributions via structure preserving interventions arXiv:2007.00714, 2021"
   ]
  },
  {
   "cell_type": "markdown",
   "metadata": {},
   "source": [
    "Burada ölçülen etkinin türünü anlamak için makaleden bir örnek ele alalım. Tren A, Tren B ve Tren C olmak üzere üç trenden oluşan bir program düşünün; burada C Treninin kalkış saati, Tren B'nin varış saatine bağlıdır ve Tren B'nin kalkış saati, Tren A'nın varış saatine bağlıdır. A, genellikle Tren B ve Tren C'den çok daha uzun gecikmeler yaşar. Cevaplamak istediğimiz soru şudur: Her trenin, Tren C'nin gecikmesi üzerindeki etkisi ne kadar güçlüdür?\n",
    "\n",
    "Literatürde etkinin çeşitli tanımları olsa da, biz bir düğümün ebeveynlerinden miras alınmamış etkisini, yani bir düğümün gürültüsünün etkisini ölçen içsel nedensel etkiyle ilgileniyoruz. Bunun nedeni C Treni B Trenini beklemek zorunda iken B Treninin gecikmeyi çoğunlukla A Treninden devralmasıdır. Bu nedenle C Treninin gecikmesine en fazla katkı sağlayan düğüm olarak Tren A belirlenmelidir."
   ]
  },
  {
   "cell_type": "code",
   "execution_count": 1,
   "metadata": {},
   "outputs": [],
   "source": [
    "import warnings\n",
    "warnings.filterwarnings('ignore')\n",
    "\n",
    "import numpy as np\n",
    "import pandas as pd\n",
    "import networkx as nx\n",
    "from dowhy import gcm"
   ]
  },
  {
   "cell_type": "code",
   "execution_count": 3,
   "metadata": {},
   "outputs": [],
   "source": [
    "X = abs(np.random.normal(loc=0, scale=5, size=1000))\n",
    "Y = X + abs(np.random.normal(loc=0, scale=1, size=1000))\n",
    "Z = Y + abs(np.random.normal(loc=0, scale=1, size=1000))\n",
    "data = pd.DataFrame(dict(X=X, Y=Y, Z=Z))"
   ]
  },
  {
   "cell_type": "markdown",
   "metadata": {},
   "source": [
    "$X$'deki 'gürültünün' standart sapmasının daha büyük olduğuna dikkat edin."
   ]
  },
  {
   "cell_type": "code",
   "execution_count": 4,
   "metadata": {},
   "outputs": [
    {
     "name": "stderr",
     "output_type": "stream",
     "text": [
      "Fitting causal mechanism of node Z: 100%|██████████| 3/3 [00:00<00:00, 37.73it/s]\n"
     ]
    }
   ],
   "source": [
    "causal_model = gcm.StructuralCausalModel(nx.DiGraph([('X', 'Y'), ('Y', 'Z')])) # X -> Y -> Z\n",
    "gcm.auto.assign_causal_mechanisms(causal_model, data)\n",
    "gcm.fit(causal_model, data)"
   ]
  },
  {
   "cell_type": "markdown",
   "metadata": {},
   "source": [
    "Son olarak, ilgi duyduğumuz bir düğüme (örneğin Z) etki eden içsel nedensel etkilerini sorabiliriz."
   ]
  },
  {
   "cell_type": "code",
   "execution_count": 5,
   "metadata": {},
   "outputs": [
    {
     "name": "stderr",
     "output_type": "stream",
     "text": [
      "Evaluate set function: 8it [00:00, 7998.67it/s]\n"
     ]
    },
    {
     "data": {
      "text/plain": [
       "{'X': 8.268749492676609, 'Y': 0.3872940792957947, 'Z': 0.41994799082789347}"
      ]
     },
     "execution_count": 5,
     "metadata": {},
     "output_type": "execute_result"
    }
   ],
   "source": [
    "contributions = gcm.intrinsic_causal_influence(causal_model, 'Z')\n",
    "contributions"
   ]
  },
  {
   "cell_type": "markdown",
   "metadata": {},
   "source": [
    "Burada doğrusal bir ilişki kullanmamıza rağmen, yöntemin keyfi doğrusal olmayan ilişkileri de ele alabileceğini unutmayın.\n",
    "\n",
    "Sonuçları yorumlama: $Z$'nin öncüllewrinin, kendisi de dahil olmak üzere, varyansına (varsayılan ölçü) içsel nedensel etkisini tahmin ettik. Bu katkılar $Z$'nin varyansında toplanır. Burada gördüğümüz gibi, $Z$'nin varyansının $\\sim 92 \\%$'sinin $X$'ten geldiğini gözlemliyoruz."
   ]
  },
  {
   "cell_type": "markdown",
   "metadata": {},
   "source": [
    "### 2.3.1. İçsel Nedensel Etki Tahmininin Anlaşılması"
   ]
  },
  {
   "cell_type": "markdown",
   "metadata": {},
   "source": [
    "\"İçsel\" nedensel etki kavramının ardındaki sezgiyi daha fazla açıklamak için farklı bir örneğe bakalım:\n",
    "\n",
    "Bir yetimhaneye yardım etmek için para toplamak amacıyla bir yardım etkinliği düzenlenir. Etkinliğin sonunda, her katılımcıya bir bağış kutusu dağıtılır. Bağış gönüllü olduğu için, bazıları çeşitli nedenlerle bağış yapmayabilir. Örneğin, nakitleri olmayabilir. Bu senaryoda, bağış kutusunu diğer katılımcıya veren bir katılımcı sonuçta toplu bağışa hiçbir katkıda bulunmaz. Her kişinin katkısı, bağışladığı miktardır.\n"
   ]
  },
  {
   "cell_type": "markdown",
   "metadata": {},
   "source": [
    "Bir kaynak düğümün hedef düğüme içsel nedensel etkisini ölçmek için fonksiyonel bir nedensel modele ihtiyacımız vardır. Örneğin, her düğümün nedensel modelinin bir toplamsal gürültü modelini (additive noise model-ANM) izlediğini varsayabiliriz, yani $X_j:=f_j\\left(\\mathrm{PA}_j\\right)+N_j$ burada $\\mathrm{PA}_j$ nedensel grafikteki $X_j$ düğümünün ebeveynleridir ve $N_j$ bağımsız gözlemlenmemiş gürültü terimidir. $X_n$'nin atalarının $X_{n c}$'nin marjinal dağılımının bazı özelliklerine (ör. varyans veya entropi) \"içsel\" katkısını hesaplamak için önce nedensel grafiğimizi kurmalı ve her düğümün nedensel modelini veri kümesinden öğrenmeliyiz."
   ]
  },
  {
   "cell_type": "markdown",
   "metadata": {},
   "source": [
    "Yukarıdaki kod örneğinde olduğu gibi, aşağıdaki ANM'ler tarafından oluşturulan nedensel bir $X \\rightarrow Y \\rightarrow Z$ grafiğini düşünün.\n",
    "\n",
    "$$\n",
    "\\begin{aligned}\n",
    "& X:=N_X \\\\\n",
    "& Y:=2 X+N_Y \\\\\n",
    "& Z:=3 Y+N_Z\n",
    "\\end{aligned}\n",
    "$$\n",
    "\n",
    "burada $N_w \\sim \\mathcal{N}(0,1)$, tüm $w \\in\\{X, Y, Z\\}$ için, standart normal gürültü değişkenleridir."
   ]
  },
  {
   "cell_type": "markdown",
   "metadata": {},
   "source": [
    "Hedef değişken $Z$'nin varyansına her değişkenin katkısıyla ilgilendiğimizi varsayalım, yani $\\operatorname{Var}[Z]$. Gürültü değişkenleri olmasaydı, her şey kök düğüm $X$'e katkıda bulunabilirdi çünkü diğer tüm değişkenler o zaman onun deterministik fonksiyonu olurdu. Her değişkenin hedef nicelik $\\operatorname{Var}[Z]$'ye içsel katkısı o zaman gerçekten karşılık gelen gürültü teriminin katkısıdır."
   ]
  },
  {
   "cell_type": "markdown",
   "metadata": {},
   "source": [
    "\"İçsel\" katkıyı hesaplamak için, gürültü değişkenlerinin alt kümeleri $N_T$ verildiğinde, yani $P_{Z \\mid N_T}$ olduğunda $Z$'nin koşullu dağılımlarına da ihtiyacımız var, burada $T \\subseteq\\{X, Y, Z\\}$. Bunları bir ANM kullanarak tahmin ediyoruz. Bu amaçla, gürültü değişkenlerinin bir alt kümesinden hedef değişkene tahmin modelini belirlememiz gerekiyor. Aşağıda, gürültü değişkenlerinden $Z$'ye doğrusal bir tahmin modeli kullanarak $X, Y$ ve $Z$'nin $\\operatorname{Var}[Z]$'ye içsel nedensel etkisini niceliyoruz."
   ]
  },
  {
   "cell_type": "code",
   "execution_count": 7,
   "metadata": {},
   "outputs": [
    {
     "name": "stderr",
     "output_type": "stream",
     "text": [
      "Evaluate set function: 8it [00:00, 8006.31it/s]\n"
     ]
    }
   ],
   "source": [
    "from dowhy.gcm.uncertainty import estimate_variance\n",
    "\n",
    "predicition_model_from_noises_to_target = gcm.ml.create_linear_regressor()\n",
    "node_to_contribution = gcm.intrinsic_causal_influence(\n",
    "    causal_model,\n",
    "    'Z',\n",
    "    prediction_model=predicition_model_from_noises_to_target,\n",
    "    attribution_func=lambda x, _: estimate_variance(x)\n",
    ")"
   ]
  },
  {
   "cell_type": "code",
   "execution_count": 8,
   "metadata": {},
   "outputs": [
    {
     "data": {
      "text/plain": [
       "{'X': 8.894030853172314, 'Y': 0.32355985380556174, 'Z': 0.3683072069111856}"
      ]
     },
     "execution_count": 8,
     "metadata": {},
     "output_type": "execute_result"
    }
   ],
   "source": [
    "node_to_contribution"
   ]
  },
  {
   "cell_type": "markdown",
   "metadata": {},
   "source": [
    "Burada, attribution_func parametresindeki varyansı, ilgilendiğimiz özellik olarak açıkça tanımladık."
   ]
  },
  {
   "cell_type": "markdown",
   "metadata": {},
   "source": [
    "Belirsizlik tahmincisi olarak varyans kullanımı, düğümlerin hedefteki kare sapmalara katkısı hakkında değerli bilgiler verirken, kişi mutlak sapmalar gibi diğer niceliklerle de ilgilenebilir. Bu, attribution_func'ı özel bir işlevle değiştirerek de kolayca hesaplanabilir:\n",
    "\n",
    "```python\n",
    "mean_absolute_deviation_estimator = lambda x, y: np.mean(abs(x-y))\n",
    "node_to_contribution = gcm.intrinsic_causal_influence(causal_model, 'Z',\n",
    "                                                     prediction_model_from_noises_to_target,\n",
    "                                                     attribution_func=mean_absolute_deviation_estimator)\n",
    "\n",
    "```\n",
    "\n",
    "Tahmin modelinin seçimi belirsiz ise, tahmin modeli parametresi \"auto\" olarak da ayarlanabilir."
   ]
  },
  {
   "cell_type": "markdown",
   "metadata": {},
   "source": [
    "Katkı için ortalamanın kullanılmasına ilişkin açıklama: attribution_func belirli bir kullanım durumu için özelleştirilebilse de, tüm tanımlar mantıklı değildir. Örneğin, ortalamanın kullanılması anlamlı sonuçlar sağlamaz. Bunun nedeni, etkilerin tahmin edilme biçiminin Shapley değerleri kavramına dayanmasıdır. Bunu daha iyi anlamak için, Shapley değerlerinin genel bir özelliğine bakabiliriz; bu özellik, Shapley değerlerinin toplamının, bizim durumumuzda katkıların toplamının, $\\nu(T)-\\nu(\\{\\})$'ye eşit olduğunu belirtir. Burada, $\\nu$ bir küme fonksiyonudur (bizim durumumuzda, attribution_func'ın beklentisi) ve $T$ tüm oyuncuların tam kümesidir (bizim durumumuzda, tüm gürültü değişkenleri)."
   ]
  },
  {
   "cell_type": "markdown",
   "metadata": {},
   "source": [
    "Şimdi, ortalamayı kullanırsak, $\\nu(T)$ $\\mathbb{E}_{\\mathbf{N}}[\\mathbb{E}[Y \\mid \\mathbb{N}]]=\\mathbb{E}[Y]$ olur, çünkü hedef değişken $Y$ grafiksel nedensel modeldeki tüm gürültü değişkenleri $\\mathbf{N}$'ye kesin olarak bağlıdır. Benzer şekilde, $\\nu(\\{\\})$ $\\mathbb{E}[Y \\mid\\{\\}]=\\mathbb{E}[Y]$ olur. Bu, $\\mathbb{E}_{\\mathbb{N}}[\\mathbb{E}[Y \\mid \\mathbb{N}]]-\\mathbb{E}[Y \\mid\\{\\}]=0$ ile sonuçlanır, yani ortaya çıkan katkılar 0'a yakındır."
   ]
  },
  {
   "cell_type": "markdown",
   "metadata": {},
   "source": [
    "# 3.Kök Neden Analizi ve Açıklaması"
   ]
  },
  {
   "cell_type": "markdown",
   "metadata": {},
   "source": [
    "DoWhy'ın grafiksel nedensel model çerçevesi, nedensel bir grafikteki düğümlerin tek nedensel mekanizmalara ayrıştırılması yoluyla, kök neden analizi ve gözlenen etkilerin açıklanması için güçlü araçlar sunar."
   ]
  },
  {
   "cell_type": "markdown",
   "metadata": {},
   "source": [
    "**Öznitelik Anomalileri**: Anormal gözlemler (yani aykırı değerler) verildiğinde, bunları bunlara neden olan düğümlere odaklanabiliriz. Buradaki fikir, karşıolgusal (counterfactual) soruyu sormaktır: \"Eğer düğüm x farklı davransaydı, yine de anomaliyi gözlemler miydik?\". Hedef düğümümüzdeki değişiklik, bir düğümün gözlemlenen anomaliye ne kadar katkıda bulunduğunu niceliksel olarak belirler. Adil bir öznitelik sağlamak için, bunun düğümlerdeki değişikliklerin farklı kombinasyonları için sistematik olarak tahmin edilmesi gerekir."
   ]
  },
  {
   "cell_type": "markdown",
   "metadata": {},
   "source": [
    "**Dağılım Değişikliği Değişkeni**: Dağılımın değiştiği iki veri kümesi verildiğinde, değişiklikleri, değişikliklere neden olan grafikteki düğümlere atfediyoruz. Burada, önce değişen düğümlerin veri üretme mekanizmalarını belirliyoruz ve sonra dağılımdaki değişiklikleri (örneğin, varyanstaki veya KL sapmasındaki bir değişiklik açısından) bu mekanizmalara atfediyoruz."
   ]
  },
  {
   "cell_type": "markdown",
   "metadata": {},
   "source": [
    "**Öznitelik İlgililiği**: Burada, bir özniteliğin bir model için ne kadar ilgili olduğu sorusunu ele alıyoruz. SHAP gibi popüler paketler, belirli bir küme fonksiyonu tanımlayarak ve her girdi özniteliği için Shapley değerini tahmin ederek bu soruyu ele alır. Bizim durumumuzda, benzer bir şey yapıyoruz, ancak nedensel bir mekanizmanın olasılıksal doğasını da dahil ediyoruz. Yani, bir değişkeni etkileyen gürültüyü de dahil ediyoruz. Bununla, girdilerin ilgililiğini (relevance) hesaplayabiliriz, ancak gürültü tarafından temsil edilen açıklanamayan kısmı da dahil edebiliriz. Ayrıca, DoWhy'daki Shapley değer tahmincisi, özelleştirilmiş bir küme fonksiyonu tanımlamak için esnek bir yol sunar."
   ]
  },
  {
   "cell_type": "markdown",
   "metadata": {},
   "source": [
    "## 3.1. Öznitelik Anomalileri"
   ]
  },
  {
   "cell_type": "markdown",
   "metadata": {},
   "source": [
    "İlgi duyduğumuz bir hedef düğümde bir anormallik gözlemlediğimizde şu soruyu ele alabiliriz:\n",
    "\n",
    "Yukarı akıştaki düğümlerin her biri ve hedef düğüm, gözlemlenen anormalliğe ne kadar katkıda bulundu?\n",
    "\n",
    "Bunun aracılığıyla, her düğümün anormal gözleme katkısını belirliyor ve belirli bir şekilde ölçüyoruz. Bu yöntem şu makaleye dayanmaktadır:\n",
    "\n",
    "Kailash Budhathoki, Lenon Minorics, Patrick Blöbaum, Dominik Janzing. Causal structure-based root cause analysis of outliers International Conference on Machine Learning, 2022"
   ]
  },
  {
   "cell_type": "markdown",
   "metadata": {},
   "source": [
    "### 3.1.1. Kullanımı"
   ]
  },
  {
   "cell_type": "markdown",
   "metadata": {},
   "source": [
    "Öncelikle basit bir X → Y → Z → W zincirinin bazı örnek verilerini üretelim:"
   ]
  },
  {
   "cell_type": "code",
   "execution_count": 1,
   "metadata": {},
   "outputs": [],
   "source": [
    "import warnings\n",
    "warnings.filterwarnings('ignore')\n",
    "\n",
    "import numpy as np\n",
    "import pandas as pd\n",
    "import networkx as nx\n",
    "from dowhy import gcm"
   ]
  },
  {
   "cell_type": "code",
   "execution_count": 2,
   "metadata": {},
   "outputs": [],
   "source": [
    "X = np.random.uniform(low=-5, high=5, size=1000)\n",
    "Y = 0.5 * X + np.random.normal(loc=0, scale=1, size=1000)\n",
    "Z = 2 * Y + np.random.normal(loc=0, scale=1, size=1000)\n",
    "W = 3 * Z + np.random.normal(loc=0, scale=1, size=1000)\n",
    "data = pd.DataFrame(data=dict(X=X, Y=Y, Z=Z, W=W))"
   ]
  },
  {
   "cell_type": "markdown",
   "metadata": {},
   "source": [
    "Sonra, neden-sonuç ilişkilerini *tersine çevrilebilir* yapısal nedensel bir model olarak modelliyoruz ve bunu verilere uyarlıyoruz. Nedensel mekanizmaları otomatik olarak atamak için `auto` modülü kullanıyoruz:"
   ]
  },
  {
   "cell_type": "code",
   "execution_count": 3,
   "metadata": {},
   "outputs": [
    {
     "name": "stderr",
     "output_type": "stream",
     "text": [
      "Fitting causal mechanism of node W: 100%|██████████| 4/4 [00:00<00:00, 326.77it/s]\n"
     ]
    }
   ],
   "source": [
    "causal_model = gcm.InvertibleStructuralCausalModel(nx.DiGraph([('X', 'Y'), ('Y', 'Z'), ('Z', 'W')]))\n",
    "gcm.auto.assign_causal_mechanisms(causal_model, data)\n",
    "gcm.fit(causal_model, data)"
   ]
  },
  {
   "cell_type": "markdown",
   "metadata": {},
   "source": [
    "Sonra, bir anormallik yaratırız. Örneğin, $Y$'nin gürültüsünü alışılmadık derecede yüksek bir değere ayarlarız:"
   ]
  },
  {
   "cell_type": "code",
   "execution_count": 4,
   "metadata": {},
   "outputs": [],
   "source": [
    "X = np.random.uniform(low=-5, high=5)  # Sample from its normal distribution.\n",
    "Y = 0.5 * X + 5  # Here, we set the noise of Y to 5, which is unusually high.\n",
    "Z = 2 * Y\n",
    "W = 3 * Z\n",
    "anomalous_data = pd.DataFrame(data=dict(X=[X], Y=[Y], Z=[Z], W=[W]))  # This data frame consist of only one sample here."
   ]
  },
  {
   "cell_type": "markdown",
   "metadata": {},
   "source": [
    "Burada, $Y$ kök nedendir ve bu da $Y, Z$ ve $W$'nin anormal olmasına yol açar. Artık ilgi duyduğumuz hedef düğümümüzün (örneğin, $W$) anomali skorlarını alabiliriz."
   ]
  },
  {
   "cell_type": "code",
   "execution_count": 5,
   "metadata": {},
   "outputs": [
    {
     "name": "stderr",
     "output_type": "stream",
     "text": [
      "Evaluate set function: 16it [00:00, ?it/s]\n"
     ]
    },
    {
     "data": {
      "text/plain": [
       "{'X': array([0.3567913]),\n",
       " 'Y': array([0.95439735]),\n",
       " 'Z': array([0.14621173]),\n",
       " 'W': array([0.1374822])}"
      ]
     },
     "execution_count": 5,
     "metadata": {},
     "output_type": "execute_result"
    }
   ],
   "source": [
    "attribution_scores = gcm.attribute_anomalies(causal_model, 'W', anomaly_samples=anomalous_data)\n",
    "attribution_scores"
   ]
  },
  {
   "cell_type": "markdown",
   "metadata": {},
   "source": [
    "Burada doğrusal bir ilişki kullansak da, yöntem keyfi doğrusal olmayan ilişkileri de barındırabilir.\n",
    "Ayrıca birden fazla temel neden de olabilir.\n",
    "\n",
    "Sonuçların yorumlanması: $W$'nin kendisi de dahil olmak üzere $W$'nin atalarının gözlemlenen anomaliye katkısını tahmin ettik. Tüm düğümler bir dereceye kadar katkıda bulunsa da, $Y$ öne çıkanıdır. $Z$'nin de $Y$ nedeniyle anormal olduğunu, ancak yalnızca yüksek değeri $Y$'den miras aldığını unutmayın. Attribution yöntemi bunu belirleyebilir ve $Y$ ve $Z$'nin katkılarını ayırt edebilir. Negatif bir katkı durumunda, karşılık gelen düğüm bir anomalinin olasılığını bile azaltır, yani görünürdeki ciddiyetini azaltır.\n",
    "\n",
    "Anomali skorunun ayrıntılı bir yorumu için, başvurulan makaleye bakın. Aşağıdaki bölüm ayrıca bazı sezgiler sunar."
   ]
  },
  {
   "cell_type": "markdown",
   "metadata": {},
   "source": [
    "### 3.1.2. Yöntemin Anlaşılması"
   ]
  },
  {
   "cell_type": "markdown",
   "metadata": {},
   "source": [
    "Bu yöntemde, belirli bir gözleme yol açan gürültüyü yeniden yapılandırmak ve değiştirmek için tersine çevrilebilir nedensel mekanizmalar kullanırız. Daha sonra, \"Belirli bir düğümün gürültü değeri 'normal' dağılımından olsaydı, hedef düğümde yine de anomali bir değer gözlemler miydik?\" diye sorarız. Öğrenilmiş dağılımına göre, yukarı akış gürültü değişkeninin değerini değiştirdikten sonra hedef düğümdeki anomalinin şiddetindeki değişiklik, düğümün anomaliye katkısını gösterir. Gürültü değerini gerçek düğüm değerine göre kullanmanın avantajı, yalnızca düğümden kaynaklanan etkiyi ölçmemiz ve ebeveynlerinden miras almamamızdır."
   ]
  },
  {
   "cell_type": "markdown",
   "metadata": {},
   "source": [
    "Süreç aşağıdaki şekilde özetlenebilir:\n",
    "\n",
    "<div>\n",
    "<img src=\"../img/attribute_anomalies.png\" width=\"250\"/>\n",
    "</div>"
   ]
  },
  {
   "cell_type": "markdown",
   "metadata": {},
   "source": [
    "1. Hedef değişken $X_n$ için bir anomali skorunu $S\\left(x_n\\right):=-\\log P\\left(g\\left(X_n\\right) \\geq g\\left(x_n\\right)\\right)$ olarak tanımlarız. Burada, $\\boldsymbol{g}$ bir isolation forest, medyan/ortalama fark veya bir anomali skoru veren herhangi bir başka model gibi keyfi bir anomali skorlayıcısıdır. Bir $x_n$ gözlemi için bilgi teorik skoru $S\\left(x_n\\right)$ daha sonra ölçek değişmezdir (scale invariant) ve anomali skorlayıcısının seçiminden bağımsızdır.\n",
    "2. Düğüm $j$'nin katkısını $\\log \\frac{P\\left(g\\left(X_n\\right) \\geq g\\left(x_n\\right) \\mid \\text { tüm gürültü değerlerini değiştir } n_1, \\ldots, n_{j-1} \\text { rassal değerlerle }\\right)}{P\\left(g\\left(X_n\\right) \\geq g\\left(x_n\\right) \\mid \\text { tüm gürültü değerlerini değiştir } n_1, \\ldots, n_j \\text { rassal değerlerle }\\right)}$ şeklinde tanımlarız, burada 'rassal değerler' öğrenilen gürültü dağılımına göredir. Bu log-oran, gürültü $N_j$'yi rassal hale getirmenin anomali olayının olasılığını nasıl azalttığını ölçer.\n",
    "3. Düğüm yeniden sıralamasından kaynaklanan belirsizliği ortadan kaldırmak için katkıyı tüm sıralamalar arasında simetrik hale getiririz. Bunun için bir Shapley simetrizasyonu kullanırız.\n",
    "4. Son Shapley değerleri, anomali skorları $S\\left(x_n\\right)$'a toplanır."
   ]
  },
  {
   "cell_type": "markdown",
   "metadata": {},
   "source": [
    "Bu yaklaşımın önemli özelliği, yalnızca nadir olayların yüksek katkılar elde edebilmesidir; yaygın olaylar nadir olanları açıklayamaz.\n",
    "\n",
    "Basit Örnek: Katkıları doğrudan elde edebileceğimiz basit ve anlaşılır bir örnek, dört kenarı olan bir zar ve 100 kenarı olan bir zar (örneğin, bir D\\&D oyunundan) olduğunda ortaya çıkar. Zarı atarsak ve $(1,1)$ gelirse, bu olay için 'aykırı değer' puanı $\\log (4 \\cdot 100)=\\log (4)+\\log (100)$ olur. Burada, her zarın bu olaya katkısı doğrudan toplama dayanır; dört kenarlı zar $23 \\%$ katkıda bulunurken, 100 kenarlı zar $(1,1)$ olayına $77 \\%$ katkıda bulunmuştur."
   ]
  },
  {
   "cell_type": "markdown",
   "metadata": {},
   "source": [
    "## 3.2.Dağılımsal Değişikliklerin İlişkilendirilmesi"
   ]
  },
  {
   "cell_type": "markdown",
   "metadata": {},
   "source": [
    "Dağılım değişikliklerini ilişkilendirirken şu soruyu yanıtlarız:\n",
    "\n",
    "İki veri seti arasında sistemimdeki hangi mekanizma değişti? Ya da başka bir deyişle, verilerimdeki hangi düğüm farklı davranıyor?\n",
    "\n",
    "Burada, nedensel mekanizmanın değiştiği grafikteki düğümü veya düğümleri tanımlamak istiyoruz. Örneğin, bir mikro servis mimarisi içindeki uygulamamızın gecikme süresinde bir artış tespit edersek, davranışı değişen düğümü / bileşeni tanımlamayı amaçlıyoruz. DoWhy, bir dağılımdaki değişiklikleri, aşağıdaki makaleyi takip eden yukarı akış (upstream) düğümlerinin nedensel mekanizmalarındaki değişikliklere tanımlamak ve atfetmek için bir yöntem uygular:\n",
    "\n",
    "Kailash Budhathoki, Dominik Janzing, Patrick Blöbaum, Hoiyi Ng. Why did the distribution change? Proceedings of The 24th International Conference on Artificial Intelligence and Statistics, PMLR 130:1666-1674, 2021."
   ]
  },
  {
   "cell_type": "markdown",
   "metadata": {},
   "source": [
    "### 3.2.1. Kullanımı"
   ]
  },
  {
   "cell_type": "markdown",
   "metadata": {},
   "source": [
    "Yöntemin nasıl kullanılacağını görmek için yukarıdaki mikro servis örneğini ele alalım ve her biri gecikmeleri izleyen dört servisten oluşan bir sistemimiz olduğunu varsayalım $X, Y, Z, W$. Yeni bir dağılım yapmayı ve dağılımdan önceki ve sonraki gecikmeleri kaydetmeyi planladığımızı varsayalım. Dağılımdan önce toplanan gecikme verilerine data_old ve dağılımdan sonra toplanan verilere data_new diyeceğiz:"
   ]
  },
  {
   "cell_type": "code",
   "execution_count": 1,
   "metadata": {},
   "outputs": [],
   "source": [
    "import warnings\n",
    "warnings.filterwarnings('ignore')\n",
    "\n",
    "import numpy as np\n",
    "import pandas as pd\n",
    "import networkx as nx\n",
    "from dowhy import gcm\n",
    "from scipy.stats import halfnorm"
   ]
  },
  {
   "cell_type": "code",
   "execution_count": 2,
   "metadata": {},
   "outputs": [],
   "source": [
    "X = halfnorm.rvs(size=1000, loc=0.5, scale=0.2)\n",
    "Y = halfnorm.rvs(size=1000, loc=1.0, scale=0.2)\n",
    "Z = np.maximum(X, Y) + np.random.normal(loc=0, scale=0.5, size=1000)\n",
    "W = Z + halfnorm.rvs(size=1000, loc=0.1, scale=0.2)\n",
    "data_old = pd.DataFrame(data=dict(X=X, Y=Y, Z=Z, W=W))"
   ]
  },
  {
   "cell_type": "code",
   "execution_count": 3,
   "metadata": {},
   "outputs": [],
   "source": [
    "X = halfnorm.rvs(size=1000, loc=0.5, scale=0.2)\n",
    "Y = halfnorm.rvs(size=1000, loc=1.0, scale=0.2)\n",
    "Z = X + Y + np.random.normal(loc=0, scale=0.5, size=1000)\n",
    "W = Z + halfnorm.rvs(size=1000, loc=0.1, scale=0.2)\n",
    "data_new = pd.DataFrame(data=dict(X=X, Y=Y, Z=Z, W=W))"
   ]
  },
  {
   "cell_type": "markdown",
   "metadata": {},
   "source": [
    "Burada, çok iş parçacıklı kodun ardışık bir koda yanlışlıkla dönüştürülmesini simüle eden $Z$'nin davranışını değiştiriyoruz (paralel olarak $X$ ve $Y$'yi beklemek yerine bunları ardışık olarak beklemek). Bu, $Z$'nin ve ardından $W$'nin dağılımını değiştirecektir.\n",
    "\n",
    "Sonra, neden-sonuç ilişkilerini olasılıksal bir nedensel model olarak modelleyeceğiz:"
   ]
  },
  {
   "cell_type": "code",
   "execution_count": 4,
   "metadata": {},
   "outputs": [
    {
     "data": {
      "text/plain": [
       "<dowhy.gcm.auto.AutoAssignmentSummary at 0x1ae8fb63a90>"
      ]
     },
     "execution_count": 4,
     "metadata": {},
     "output_type": "execute_result"
    }
   ],
   "source": [
    "causal_model = gcm.ProbabilisticCausalModel(nx.DiGraph([('X', 'Z'), ('Y', 'Z'), ('Z', 'W')])) # (X, Y) -> Z -> W\n",
    "gcm.auto.assign_causal_mechanisms(causal_model, data_old)"
   ]
  },
  {
   "cell_type": "markdown",
   "metadata": {},
   "source": [
    "Son olarak, $W$ dağılımlarındaki değişiklikleri nedensel mekanizmalardaki değişikliklere bağlıyoruz:"
   ]
  },
  {
   "cell_type": "code",
   "execution_count": 6,
   "metadata": {},
   "outputs": [
    {
     "name": "stderr",
     "output_type": "stream",
     "text": [
      "Evaluate set function: 16it [00:00, ?it/s]\n"
     ]
    },
    {
     "data": {
      "text/plain": [
       "{'W': 0.046919664317514445,\n",
       " 'X': 0.010759151751588633,\n",
       " 'Y': -0.022628749049083765,\n",
       " 'Z': 0.7739102109556353}"
      ]
     },
     "execution_count": 6,
     "metadata": {},
     "output_type": "execute_result"
    }
   ],
   "source": [
    "attributions = gcm.distribution_change(causal_model, data_old, data_new, 'W')\n",
    "attributions"
   ]
  },
  {
   "cell_type": "markdown",
   "metadata": {},
   "source": [
    "$W$ dağılımı da değişmiş olsa da, yöntem değişikliği neredeyse tamamen $Z$'ye ilişkilendirirken diğer değişkenler için önemsiz skorlar verir. Bu, yalnızca $\\boldsymbol{Z}$ mekanizmasını değiştirdiğimiz için beklentilerimizle uyumludur. Skorların biriminin kullanılan ölçüye bağlı olduğunu unutmayın (bir sonraki bölüme bakın).\n",
    "\n",
    "Okuyucunun fark etmiş olabileceği gibi, bu yöntemi kullanırken herhangi bir uydurma adımı (fitting step) söz konusu değildir. Bunun nedeni, bu fonksiyonun dahili olarak uydurma fonksiyonunu çağıracak olmasıdır. Daha kesin olmak gerekirse, bu fonksiyon nedensel grafiğin iki kopyasını yapacak ve bir grafiği ilk veri kümesine, ikinci grafiği ise ikinci veri kümesine uyduracaktır."
   ]
  },
  {
   "cell_type": "markdown",
   "metadata": {},
   "source": [
    "### 3.2.2. Yöntemin Anlaşılması"
   ]
  },
  {
   "cell_type": "markdown",
   "metadata": {},
   "source": [
    "Bu yöntemin arkasındaki fikir, eski veri kümesine dayanarak öğrenilen nedensel mekanizmayı **sistematik** olarak yeni veri kümesine dayanarak öğrenilen mekanizmayla değiştirmektir. Her değiştirmeden sonra, veri oluşturma sürecinin eski ve yeni mekanizmaların bir karışımı olduğu hedef düğüm için yeni örnekler üretilir. Amacımız, hedefin farklı bir marjinal dağılımına yol açacak şekilde değişen mekanizmaları belirlemektir, değişmeyen mekanizmalar ise aynı marjinal dağılıma yol açacaktır. Bunu başarmak için, mekanizmaları sistematik olarak değiştirmek için Shapley simetrileştirmesi fikrini kullanırız. Bu, hangi düğümlerin değiştiğini belirlememizi ve bazı ölçütlere göre bir ilişki skoru tahmin etmemizi sağlar. Mekanizmadaki bir değişikliğin, temel modeldeki fonksiyonel bir değişiklikten veya (gözlemlenmeyen) gürültü dağılımındaki bir değişiklikten kaynaklanabileceğini unutmayın. Ancak, her iki değişiklik de mekanizmada bir değişikliğe yol açacaktır."
   ]
  },
  {
   "cell_type": "markdown",
   "metadata": {},
   "source": [
    "Adımlar aşağıdaki şekilde özetlenebilir:\n",
    "\n",
    "<div>\n",
    "<img src=\"../img/dist_change.png\" width=\"500\"/>\n",
    "</div>"
   ]
  },
  {
   "cell_type": "markdown",
   "metadata": {},
   "source": [
    "1. 'Eski' verilerden (örneğin, dağılımdan önceki gecikmeler (latencies)) koşullu dağılımları tahmin ederiz: $P_{X_1, \\ldots, X_n}=\\prod_j P_{X_j \\mid P A_{j^{\\prime}}}$ burada $P_{X_j \\mid P A_j}$, $X_j$ düğümünün nedensel mekanizmasıdır ve $P A_j$, $X_j$ düğümünün ebeveynleridir\n",
    "2. 'Yeni' verilerden (örneğin, dağılımdan sonraki gecikmeler) koşullu dağılımları tahmin ederiz:\n",
    "\n",
    "$$\n",
    "\\tilde{P}_{X_1, \\ldots, X_n}=\\prod_j \\tilde{P}_{X_j \\mid P A_j}\n",
    "$$\n",
    "3. 'Eski' verilere dayalı mekanizmaları sistematik olarak, teker teker 'yeni' verilere dayalı mekanizmalarla değiştiririz. Bunun için, $P_{X_j \\mid P A_j}$'yi her $j$ için $\\tilde{P}_{X_j \\mid P A_j}$ ile değiştiririz. $T \\subseteq\\{1, \\ldots, n\\}$'deki düğümler daha önce değiştirilmişse, $\\tilde{P}_T^{X_n}=\\sum_{x_1, \\ldots, x_{n-1}} \\prod_{j \\in T} \\tilde{P}_{X_j \\mid P A_j} \\prod_{j \\notin T} P_{X_j \\mid P A_j}$ düğümü $n$ için yeni bir marjinal elde ederiz.\n",
    "4. Shapley değerlerini kullanarak $T$ marjinalindeki değişimi $P_{T \\bigcup\\{j\\}}^{X_n}$ ve $P_T^{X_n}$'yi karşılaştırarak $X_j$'ye ilişkilendiririz. Burada, değişimi yakalamak için orijinal dağılıma göre KL sapması veya varyanslardaki fark gibi farklı ölçüler kullanabiliriz."
   ]
  },
  {
   "cell_type": "markdown",
   "metadata": {},
   "source": [
    "Daha ayrıntılı açıklama için ilgili makaleye bakın: https://proceedings.mlr.press/v130/budhathoki21a/budhathoki21a.pdf"
   ]
  },
  {
   "cell_type": "markdown",
   "metadata": {},
   "source": [
    "## 3.3.Öznitelik İlgililiği"
   ]
  },
  {
   "cell_type": "markdown",
   "metadata": {},
   "source": [
    "Öznitelik ilgililiği bağlamında, şu soruyu ele alıyoruz:\n",
    "\n",
    "Bir öznitelik, hedef değişken için ne kadar alakalıdır?\n",
    "\n",
    "Bu soruyu ele almak için birden fazla yaklaşım vardır. Bu bağlamda, eldeki soruna bağlı olarak değiştirilebilen, özel olarak uyarlanmış küme fonksiyonlarına sahip Shapley değerleri kavramını kullanıyoruz. En yaygın ayarda, bu SHAP paketine benzer. Ancak, küme fonksiyonunu değiştirmek için basit ve esnek bir yöntem sunuyoruz, böylece açıklamaları özelleştiriyoruz.\n",
    "\n",
    "Gürültünün (yani açıklanamayan) bir modelin girdi özniteliklerinden biri olarak da dahil edildiği nedensel bir çerçeveyle buna yaklaşıyoruz. Başka bir deyişle, bir düğümün ebeveynlerini ve gürültüyü girdi olarak içeren nedensel mekanizmayı inceleyebiliriz.\n",
    "\n",
    "Shapley değerlerinin belirli bir modelin nedensel açıklamaları olarak nasıl yorumlanabileceğine ilişkin daha fazla bilgi için aşağıdaki makaleye bakın:\n",
    "\n",
    "Dominik Janzing, Lenon Minorics, Patrick Blöbaum. Feature relevance quantification in explainable AI: A causal problem International Conference on Artificial Intelligence and Statistics, 2907-2916, 2021."
   ]
  },
  {
   "cell_type": "markdown",
   "metadata": {},
   "source": [
    "### 3.3.1. Kullanımı"
   ]
  },
  {
   "cell_type": "markdown",
   "metadata": {},
   "source": [
    "Nedensel olmayan kullanım durumları da olsa ve araçlarımız bunlar için de kullanılabilse de, öncelikle bir düğümün nedensel mekanizmasını kullandığımız bir örneğe bakacağız. Her zamanki gibi, önce bazı örnek veriler üreteceğiz:"
   ]
  },
  {
   "cell_type": "code",
   "execution_count": 7,
   "metadata": {},
   "outputs": [],
   "source": [
    "import warnings\n",
    "warnings.filterwarnings('ignore')\n",
    "\n",
    "import numpy as np\n",
    "import pandas as pd\n",
    "import networkx as nx\n",
    "from dowhy import gcm"
   ]
  },
  {
   "cell_type": "code",
   "execution_count": 8,
   "metadata": {},
   "outputs": [],
   "source": [
    "X = np.random.normal(loc=0, scale=1, size=1000)\n",
    "Z = np.random.normal(loc=0, scale=1, size=1000)\n",
    "Y = X + 3 * Z + np.random.normal(loc=0, scale=1, size=1000)\n",
    "data = pd.DataFrame(data=dict(X=X, Y=Y, Z=Z))"
   ]
  },
  {
   "cell_type": "markdown",
   "metadata": {},
   "source": [
    "Şimdi, bunu analiz etmek için farklı seçenekler var. Bunu başlangıçta nedensel bir model olarak modelleyelim:"
   ]
  },
  {
   "cell_type": "code",
   "execution_count": 9,
   "metadata": {},
   "outputs": [
    {
     "name": "stderr",
     "output_type": "stream",
     "text": [
      "Fitting causal mechanism of node Z: 100%|██████████| 3/3 [00:00<00:00, 300.08it/s]\n"
     ]
    }
   ],
   "source": [
    "causal_model = gcm.InvertibleStructuralCausalModel(nx.DiGraph([('X', 'Y'), ('Z', 'Y')])) # X -> Y <- Z\n",
    "gcm.auto.assign_causal_mechanisms(causal_model, data)\n",
    "gcm.fit(causal_model, data)"
   ]
  },
  {
   "cell_type": "markdown",
   "metadata": {},
   "source": [
    "Artık ebeveynlerin global önemini (popülasyon/dağılım düzeyi) değerlendirebiliriz:"
   ]
  },
  {
   "cell_type": "code",
   "execution_count": 10,
   "metadata": {},
   "outputs": [
    {
     "name": "stderr",
     "output_type": "stream",
     "text": [
      "Evaluate set function: 8it [00:00, ?it/s]\n"
     ]
    },
    {
     "data": {
      "text/plain": [
       "({('X', 'Y'): 0.8936534491130332, ('Z', 'Y'): 8.878179249310966},\n",
       " array([0.98738613]))"
      ]
     },
     "execution_count": 10,
     "metadata": {},
     "output_type": "execute_result"
    }
   ],
   "source": [
    "parent_relevance, noise_relevance  = gcm.parent_relevance(causal_model, target_node='Y')\n",
    "parent_relevance, noise_relevance"
   ]
  },
  {
   "cell_type": "markdown",
   "metadata": {},
   "source": [
    "Global ilgi bağlamında, girdilerin ilgi düzeyi varsayılan olarak varyansa katkılarına göre değerlendirilir. Burada, ebeveyn $\\boldsymbol{Z}$'nin açıkça en ilgili öznitelik olduğunu görebiliriz. Ayrıca, bu durumda $X$'in ilgi düzeyine eşdeğer olan gürültünün ilgi düzeyini de görebiliriz.\n",
    "\n",
    "Yukarıdaki örnekte, nedensel yapıyı doğrudan kullandık ve global ilgi düzeyini tahmin ettik. Ancak, bu yöntemi bir kara kutu tahmincisi ile de kullanabiliriz. Bunun için, bir örnek olarak doğrusal bir model kullanalım:"
   ]
  },
  {
   "cell_type": "code",
   "execution_count": 11,
   "metadata": {},
   "outputs": [],
   "source": [
    "from sklearn.linear_model import LinearRegression\n",
    "from dowhy.gcm.util.general import variance_of_deviations"
   ]
  },
  {
   "cell_type": "code",
   "execution_count": 13,
   "metadata": {},
   "outputs": [
    {
     "name": "stderr",
     "output_type": "stream",
     "text": [
      "Evaluate set function: 4it [00:00, ?it/s]\n"
     ]
    },
    {
     "data": {
      "text/plain": [
       "array([0.83917095, 8.79396512])"
      ]
     },
     "execution_count": 13,
     "metadata": {},
     "output_type": "execute_result"
    }
   ],
   "source": [
    "mdl = LinearRegression()\n",
    "mdl.fit(data[['X', 'Z']].to_numpy(), Y)\n",
    "relevance = gcm.feature_relevance_distribution(mdl.predict, data[['X', 'Z']].to_numpy(), subset_scoring_func=variance_of_deviations)\n",
    "relevance"
   ]
  },
  {
   "cell_type": "markdown",
   "metadata": {},
   "source": [
    "Bu durumda, alt küme skorlama fonksiyonumuzu doğrudan sapmaların varyansı olarak tanımladık ve benzer sonuçlar elde ettik.\n",
    "\n",
    "Son olarak, tüm popülasyon yerine bireysel bir gözlem için ilgi düzeyine bakalım. Bunun için, aşağıdaki gözlem için ilgi düzeyini açıklamak istediğimizi varsayalım:"
   ]
  },
  {
   "cell_type": "code",
   "execution_count": 14,
   "metadata": {},
   "outputs": [],
   "source": [
    "single_observation = np.array([[2, 1]])"
   ]
  },
  {
   "cell_type": "markdown",
   "metadata": {},
   "source": [
    "Burada, $X=2$ ve $Z=1$, sonuç olarak $Y=5$. Bu tek gözlemin ilgi düzeyini değerlendirelim:"
   ]
  },
  {
   "cell_type": "code",
   "execution_count": 15,
   "metadata": {},
   "outputs": [],
   "source": [
    "from dowhy.gcm.util.general import means_difference"
   ]
  },
  {
   "cell_type": "code",
   "execution_count": 16,
   "metadata": {},
   "outputs": [
    {
     "name": "stderr",
     "output_type": "stream",
     "text": [
      "Evaluate set function: 4it [00:00, ?it/s]\n"
     ]
    },
    {
     "data": {
      "text/plain": [
       "array([[1.89380021, 3.01183844]])"
      ]
     },
     "execution_count": 16,
     "metadata": {},
     "output_type": "execute_result"
    }
   ],
   "source": [
    "relevance = gcm.feature_relevance_sample(mdl.predict, data[['X', 'Z']].to_numpy(), baseline_samples=single_observation, subset_scoring_func=means_difference)\n",
    "relevance"
   ]
  },
  {
   "cell_type": "markdown",
   "metadata": {},
   "source": [
    "Beklendiği gibi, $X$, $Z_t$'den daha büyük bir değere sahip olsa da, katsayısı nedeniyle $Z$ modelin sonucu için daha önemlidir.\n",
    "\n",
    "Not: Diğer yöntemlere benzer şekilde, yöntemi burada doğrusal bir ilişki kullanarak gösterip doğrularken, keyfi doğrusal olmayan ilişkileri de işleyebilir."
   ]
  },
  {
   "cell_type": "markdown",
   "metadata": {},
   "source": [
    "# 4.\"...Olursa Ne Olurdu?\" Sorularını Sormak ve Cevaplamak"
   ]
  },
  {
   "cell_type": "markdown",
   "metadata": {},
   "source": [
    "Grafiksel nedensel modeller kullanılarak, Pearl'ün nedensellik merdiveninde tanımlandığı gibi hem basamak 2 (müdahaleler-interventions) hem de basamak 3 (karşıt olgular-counterfactuals) sorularını ele almak mümkündür."
   ]
  },
  {
   "cell_type": "markdown",
   "metadata": {},
   "source": [
    "## 4.1.Müdahalelerin Etkisini Simüle Etmek"
   ]
  },
  {
   "cell_type": "markdown",
   "metadata": {},
   "source": [
    "Müdahalelerin etkisini simüle ederek şu tür sorulara cevap veriyoruz:\n",
    "\n",
    "Y'ye müdahale edersem Z değişkenine ne olur?"
   ]
  },
  {
   "cell_type": "markdown",
   "metadata": {},
   "source": [
    "### 4.1.1. Kullanımı"
   ]
  },
  {
   "cell_type": "markdown",
   "metadata": {},
   "source": [
    "Yöntemin nasıl çalıştığını görmek için biraz veri üretelim:"
   ]
  },
  {
   "cell_type": "code",
   "execution_count": 17,
   "metadata": {},
   "outputs": [],
   "source": [
    "import warnings\n",
    "warnings.filterwarnings('ignore')\n",
    "\n",
    "import numpy as np\n",
    "import pandas as pd\n",
    "import networkx as nx\n",
    "from dowhy import gcm"
   ]
  },
  {
   "cell_type": "code",
   "execution_count": 18,
   "metadata": {},
   "outputs": [],
   "source": [
    "X = np.random.normal(loc=0, scale=1, size=1000)\n",
    "Y = 2*X + np.random.normal(loc=0, scale=1, size=1000)\n",
    "Z = 3*Y + np.random.normal(loc=0, scale=1, size=1000)\n",
    "training_data = pd.DataFrame(data=dict(X=X, Y=Y, Z=Z))"
   ]
  },
  {
   "cell_type": "markdown",
   "metadata": {},
   "source": [
    "Daha sonra, neden-sonuç ilişkilerini olasılıksal bir nedensel model olarak modelleyeceğiz ve bunu verilere uyduracağız:"
   ]
  },
  {
   "cell_type": "code",
   "execution_count": 19,
   "metadata": {},
   "outputs": [
    {
     "name": "stderr",
     "output_type": "stream",
     "text": [
      "Fitting causal mechanism of node Z: 100%|██████████| 3/3 [00:00<00:00, 749.12it/s]\n"
     ]
    }
   ],
   "source": [
    "causal_model = gcm.ProbabilisticCausalModel(nx.DiGraph([('X', 'Y'), ('Y', 'Z')])) # X -> Y -> Z\n",
    "gcm.auto.assign_causal_mechanisms(causal_model, training_data)\n",
    "gcm.fit(causal_model, training_data)"
   ]
  },
  {
   "cell_type": "markdown",
   "metadata": {},
   "source": [
    "Son olarak, $X$ üzerinde bir müdahale gerçekleştirelim. Burada, $d o(X:=1)$ müdahalesini açıkça gerçekleştiriyoruz:"
   ]
  },
  {
   "cell_type": "code",
   "execution_count": 20,
   "metadata": {},
   "outputs": [
    {
     "data": {
      "text/html": [
       "<div>\n",
       "<style scoped>\n",
       "    .dataframe tbody tr th:only-of-type {\n",
       "        vertical-align: middle;\n",
       "    }\n",
       "\n",
       "    .dataframe tbody tr th {\n",
       "        vertical-align: top;\n",
       "    }\n",
       "\n",
       "    .dataframe thead th {\n",
       "        text-align: right;\n",
       "    }\n",
       "</style>\n",
       "<table border=\"1\" class=\"dataframe\">\n",
       "  <thead>\n",
       "    <tr style=\"text-align: right;\">\n",
       "      <th></th>\n",
       "      <th>X</th>\n",
       "      <th>Y</th>\n",
       "      <th>Z</th>\n",
       "    </tr>\n",
       "  </thead>\n",
       "  <tbody>\n",
       "    <tr>\n",
       "      <th>0</th>\n",
       "      <td>1</td>\n",
       "      <td>3.033108</td>\n",
       "      <td>10.298888</td>\n",
       "    </tr>\n",
       "    <tr>\n",
       "      <th>1</th>\n",
       "      <td>1</td>\n",
       "      <td>2.811108</td>\n",
       "      <td>9.730742</td>\n",
       "    </tr>\n",
       "    <tr>\n",
       "      <th>2</th>\n",
       "      <td>1</td>\n",
       "      <td>0.493623</td>\n",
       "      <td>1.423954</td>\n",
       "    </tr>\n",
       "    <tr>\n",
       "      <th>3</th>\n",
       "      <td>1</td>\n",
       "      <td>2.382729</td>\n",
       "      <td>7.329285</td>\n",
       "    </tr>\n",
       "    <tr>\n",
       "      <th>4</th>\n",
       "      <td>1</td>\n",
       "      <td>0.581403</td>\n",
       "      <td>1.556154</td>\n",
       "    </tr>\n",
       "  </tbody>\n",
       "</table>\n",
       "</div>"
      ],
      "text/plain": [
       "   X         Y          Z\n",
       "0  1  3.033108  10.298888\n",
       "1  1  2.811108   9.730742\n",
       "2  1  0.493623   1.423954\n",
       "3  1  2.382729   7.329285\n",
       "4  1  0.581403   1.556154"
      ]
     },
     "execution_count": 20,
     "metadata": {},
     "output_type": "execute_result"
    }
   ],
   "source": [
    "samples = gcm.interventional_samples(causal_model,\n",
    "                                     {'X': lambda x: 1},\n",
    "                                     num_samples_to_draw=1000)\n",
    "samples.head()"
   ]
  },
  {
   "cell_type": "markdown",
   "metadata": {},
   "source": [
    "Gördüğümüz gibi, X artık sabit bir 1 değerinde sabitlendi. Bu, **atomik müdahale** olarak bilinir. Ayrıca, rassal değişken X'i herhangi bir değerle kaydırdığımız kaydırma müdahaleleri de gerçekleştirebiliriz:"
   ]
  },
  {
   "cell_type": "code",
   "execution_count": 21,
   "metadata": {},
   "outputs": [
    {
     "data": {
      "text/html": [
       "<div>\n",
       "<style scoped>\n",
       "    .dataframe tbody tr th:only-of-type {\n",
       "        vertical-align: middle;\n",
       "    }\n",
       "\n",
       "    .dataframe tbody tr th {\n",
       "        vertical-align: top;\n",
       "    }\n",
       "\n",
       "    .dataframe thead th {\n",
       "        text-align: right;\n",
       "    }\n",
       "</style>\n",
       "<table border=\"1\" class=\"dataframe\">\n",
       "  <thead>\n",
       "    <tr style=\"text-align: right;\">\n",
       "      <th></th>\n",
       "      <th>X</th>\n",
       "      <th>Y</th>\n",
       "      <th>Z</th>\n",
       "    </tr>\n",
       "  </thead>\n",
       "  <tbody>\n",
       "    <tr>\n",
       "      <th>0</th>\n",
       "      <td>1.372186</td>\n",
       "      <td>3.930829</td>\n",
       "      <td>12.960721</td>\n",
       "    </tr>\n",
       "    <tr>\n",
       "      <th>1</th>\n",
       "      <td>0.265933</td>\n",
       "      <td>-0.126947</td>\n",
       "      <td>0.687153</td>\n",
       "    </tr>\n",
       "    <tr>\n",
       "      <th>2</th>\n",
       "      <td>0.396088</td>\n",
       "      <td>0.324487</td>\n",
       "      <td>0.440289</td>\n",
       "    </tr>\n",
       "    <tr>\n",
       "      <th>3</th>\n",
       "      <td>-1.147428</td>\n",
       "      <td>-1.940989</td>\n",
       "      <td>-6.799381</td>\n",
       "    </tr>\n",
       "    <tr>\n",
       "      <th>4</th>\n",
       "      <td>1.351232</td>\n",
       "      <td>2.199626</td>\n",
       "      <td>6.996288</td>\n",
       "    </tr>\n",
       "  </tbody>\n",
       "</table>\n",
       "</div>"
      ],
      "text/plain": [
       "          X         Y          Z\n",
       "0  1.372186  3.930829  12.960721\n",
       "1  0.265933 -0.126947   0.687153\n",
       "2  0.396088  0.324487   0.440289\n",
       "3 -1.147428 -1.940989  -6.799381\n",
       "4  1.351232  2.199626   6.996288"
      ]
     },
     "execution_count": 21,
     "metadata": {},
     "output_type": "execute_result"
    }
   ],
   "source": [
    "samples = gcm.interventional_samples(causal_model,\n",
    "                                     {'X': lambda x: x + 0.5},\n",
    "                                     num_samples_to_draw=1000)\n",
    "samples.head()"
   ]
  },
  {
   "cell_type": "markdown",
   "metadata": {},
   "source": [
    "## 4.2.Karşı-Olguların Hesaplanması"
   ]
  },
  {
   "cell_type": "markdown",
   "metadata": {},
   "source": [
    "Karşı-olguları hesaplayarak şu soruyu yanıtlıyoruz:\n",
    "\n",
    "Değişken $\\boldsymbol{X}$'in $\\boldsymbol{x}$ değerine ayarlandığı bir değişken $\\boldsymbol{Z}$ için belirli bir sonuç $\\boldsymbol{z}$ gözlemledim. $X$'e farklı bir $x^{\\prime}$ değeri atamak için müdahale etseydim, $Z$ değerine ne olurdu?\n",
    "\n",
    "Somut bir örnek olarak, aşağıdakileri hayal edebiliriz:\n",
    "\n",
    "Kolesterol LDL'mde sağlıksız yüksek seviyeler görüyorum $(Z=10)$. Son aylarda buna karşı hiçbir ilaç almadım $(x=0)$. Günde 5 g'lık bir ilaç dozu $(X:=5)$ almış olsaydım, kolesterol LDL seviyeme ( $\\boldsymbol{Z}$) ne olurdu?\n",
    "\n",
    "Pearl’ün grafiksel nedensel model çerçevesine dayalı karşı olguların tahmininin, müdahalesel örneklerin oluşturulmasından daha güçlü varsayımlar gerektirdiğini unutmayın."
   ]
  },
  {
   "cell_type": "markdown",
   "metadata": {},
   "source": [
    "### 4.2.1. Kullanımı"
   ]
  },
  {
   "cell_type": "markdown",
   "metadata": {},
   "source": [
    "Bu yöntemi nasıl kullanabileceğimizi görmek için biraz veri üretelim:"
   ]
  },
  {
   "cell_type": "code",
   "execution_count": 22,
   "metadata": {},
   "outputs": [],
   "source": [
    "import warnings\n",
    "warnings.filterwarnings('ignore')\n",
    "\n",
    "import numpy as np\n",
    "import pandas as pd\n",
    "import networkx as nx\n",
    "from dowhy import gcm"
   ]
  },
  {
   "cell_type": "code",
   "execution_count": 23,
   "metadata": {},
   "outputs": [],
   "source": [
    "X = np.random.uniform(low=0, high=10, size=2000)\n",
    "Y = -2*X + np.random.normal(loc=0, scale=5, size=2000)\n",
    "Z = 3*Y + 80 + np.random.normal(loc=0, scale=5, size=2000)\n",
    "training_data = pd.DataFrame(data=dict(X=X, Y=Y, Z=Z))"
   ]
  },
  {
   "cell_type": "markdown",
   "metadata": {},
   "source": [
    "Kolesterol örneğini düşünürsek, burada $Y$'yi kolesterol LDL seviyesini etkileyen bir tür vücut ölçümü olarak düşünebiliriz, örneğin vücudun ilacı emme yeteneğinin veya metabolizmasının bir türevi.\n",
    "\n",
    "Sonra, neden-sonuç ilişkilerini modelleyeceğiz ve modelleri verilere uyduracağız. Karşı-olguları tahmin etmek, toplamsal gürültü modelleri ile temsil edilebilen tersinir (invertible) bir SCM gerektirir:"
   ]
  },
  {
   "cell_type": "code",
   "execution_count": 24,
   "metadata": {},
   "outputs": [
    {
     "name": "stderr",
     "output_type": "stream",
     "text": [
      "Fitting causal mechanism of node Z: 100%|██████████| 3/3 [00:00<00:00, 719.93it/s]\n"
     ]
    }
   ],
   "source": [
    "causal_model = gcm.InvertibleStructuralCausalModel(nx.DiGraph([('X', 'Y'), ('Y', 'Z')])) # X -> Y -> Z\n",
    "gcm.auto.assign_causal_mechanisms(causal_model, training_data)\n",
    "gcm.fit(causal_model, training_data)"
   ]
  },
  {
   "cell_type": "markdown",
   "metadata": {},
   "source": [
    "$x=0, y=5, z=110$ değerlerini gözlemlediğimizi varsayalım. İlaç almanın, örneğin $x:=5$ olarak ayarlamanın $z$ için daha küçük bir değere yol açıp açmayacağını bilmekle ilgileniyoruz. Bu senaryo için $z$'nin karşı-olgusal değeri aşağıdaki şekilde tahmin edilebilir:"
   ]
  },
  {
   "cell_type": "code",
   "execution_count": 25,
   "metadata": {},
   "outputs": [
    {
     "data": {
      "text/html": [
       "<div>\n",
       "<style scoped>\n",
       "    .dataframe tbody tr th:only-of-type {\n",
       "        vertical-align: middle;\n",
       "    }\n",
       "\n",
       "    .dataframe tbody tr th {\n",
       "        vertical-align: top;\n",
       "    }\n",
       "\n",
       "    .dataframe thead th {\n",
       "        text-align: right;\n",
       "    }\n",
       "</style>\n",
       "<table border=\"1\" class=\"dataframe\">\n",
       "  <thead>\n",
       "    <tr style=\"text-align: right;\">\n",
       "      <th></th>\n",
       "      <th>X</th>\n",
       "      <th>Y</th>\n",
       "      <th>Z</th>\n",
       "    </tr>\n",
       "  </thead>\n",
       "  <tbody>\n",
       "    <tr>\n",
       "      <th>0</th>\n",
       "      <td>5</td>\n",
       "      <td>-4.774785</td>\n",
       "      <td>80.591146</td>\n",
       "    </tr>\n",
       "  </tbody>\n",
       "</table>\n",
       "</div>"
      ],
      "text/plain": [
       "   X         Y          Z\n",
       "0  5 -4.774785  80.591146"
      ]
     },
     "execution_count": 25,
     "metadata": {},
     "output_type": "execute_result"
    }
   ],
   "source": [
    "gcm.counterfactual_samples(\n",
    "    causal_model,\n",
    "    {'X': lambda x: 5},\n",
    "    observed_data=pd.DataFrame(data=dict(X=[0], Y=[5], Z=[110])))"
   ]
  },
  {
   "cell_type": "markdown",
   "metadata": {},
   "source": [
    "Gördüğümüz gibi, $X$ tedavi/müdahale değerimizi 5 olarak alır ve $Y$ ve $Z$ eğitilmiş nedensel modellerimize ve sabit gözleme dayalı kesin değerler alır. Örneğin, $X$ 0 ve $Y$ 5 olsaydı, veri oluşturma sürecine dayanarak $Z$'nin 95 olmasını beklerdik. Ancak, $Z$'nin 110 olduğunu gözlemledik, bu da bu özel örnekte yaklaşık $\\sim 15$'lik bir gürültü değeri olduğunu gösteriyor. Bu gizli gürültü faktörünü bildiğimizde, $X$'i 5 olarak ayarlasaydık $Z$'nin karşıt olgusal değerini tahmin edebiliriz, bu da yukarıdaki sonuçta gösterildiği gibi yaklaşık $\\sim 80$'dir.\n",
    "\n",
    "Ayrıca bu gürültü değerlerini doğrudan fonksiyona sağlayabiliriz:"
   ]
  },
  {
   "cell_type": "code",
   "execution_count": 26,
   "metadata": {},
   "outputs": [
    {
     "data": {
      "text/html": [
       "<div>\n",
       "<style scoped>\n",
       "    .dataframe tbody tr th:only-of-type {\n",
       "        vertical-align: middle;\n",
       "    }\n",
       "\n",
       "    .dataframe tbody tr th {\n",
       "        vertical-align: top;\n",
       "    }\n",
       "\n",
       "    .dataframe thead th {\n",
       "        text-align: right;\n",
       "    }\n",
       "</style>\n",
       "<table border=\"1\" class=\"dataframe\">\n",
       "  <thead>\n",
       "    <tr style=\"text-align: right;\">\n",
       "      <th></th>\n",
       "      <th>X</th>\n",
       "      <th>Y</th>\n",
       "      <th>Z</th>\n",
       "    </tr>\n",
       "  </thead>\n",
       "  <tbody>\n",
       "    <tr>\n",
       "      <th>0</th>\n",
       "      <td>5</td>\n",
       "      <td>-5.113236</td>\n",
       "      <td>79.653499</td>\n",
       "    </tr>\n",
       "  </tbody>\n",
       "</table>\n",
       "</div>"
      ],
      "text/plain": [
       "   X         Y          Z\n",
       "0  5 -5.113236  79.653499"
      ]
     },
     "execution_count": 26,
     "metadata": {},
     "output_type": "execute_result"
    }
   ],
   "source": [
    "gcm.counterfactual_samples(\n",
    "    causal_model,\n",
    "    {'X': lambda x: 5},\n",
    "    noise_data=pd.DataFrame(data=dict(X=[0], Y=[5], Z=[15])))"
   ]
  },
  {
   "cell_type": "markdown",
   "metadata": {},
   "source": [
    "Gördüğümüz gibi, $X$ 5 ve $y=-2 \\cdot x+5=-5 olarak ayarlandığında, z$ yaklaşık $\\sim 65$ olmalıdır. Ancak $Z$ için gizli gürültünün yaklaşık $\\sim 15$ olduğunu biliyoruz. Dolayısıyla karşıt olgusal sonuç yine $z=3 * y+80+15=80$ olur.\n",
    "\n",
    "Elde ettiğimiz tahmini değerlerin sonuçlarda gördüğümüz gibi kesin olmadığını belirtmek önemlidir, çünkü model parametreleri mükemmel bir şekilde öğrenilmemiştir. Özellikle, $Y$ ve $Z$ için öğrenilen katsayılar, veri oluşturma sürecinin önerdiği gibi sırasıyla tam olarak -2 ve 3 değildir. Yapay öğrenmede her zamanki gibi, daha fazla veri veya ince ayarlı modeller doğruluğu artırmaya yardımcı olabilir."
   ]
  },
  {
   "cell_type": "markdown",
   "metadata": {},
   "source": [
    "### 4.2.2. Yöntemin Anlaşılması"
   ]
  },
  {
   "cell_type": "markdown",
   "metadata": {},
   "source": [
    "Grafiksel nedensel modellerdeki karşı olgular, Müdahalelerin Etkisini Simüle Etmeye çok benzer, ancak önemli bir fark vardır: ***müdahaleleri gerçekleştirirken geleceğe bakarız, karşı olgular içinse alternatif bir geçmişe bakarız.*** Bunu hesaplamada yansıtmak için, müdahaleleri gerçekleştirirken, önce belirli bir gözlem için tüm gürültü değerlerini yeniden yaratırız ve sonra karşı olgu sonucunu tahmin ederiz. Ancak bu, müdahale örnekleri oluşturmaktan daha güçlü modelleme varsayımları gerektirir."
   ]
  },
  {
   "cell_type": "markdown",
   "metadata": {},
   "source": [
    "Bir düğüm $Y$'nin nedensel mekanizmasının $Y:=f(X, N)$ şeklinde gösterildiğini hatırlayın; burada $X$, $Y$'nin ebeveynleridir ve $N$ gürültüdür. $Y$ için müdahaleci örnekler üretmek için $N$'den herhangi bir rassal değer alabiliriz; ancak karşı olgular için, önce gözlemimize yol açan belirli gürültü değerini (modele dayalı olarak) yeniden oluşturmamız gerekir. Bu, nedensel mekanizmanın $N$ açısından tersine çevrilebilir olmasını gerektirir; ancak $X$ açısından tersine çevrilebilir olması gerekmez. Bunu sağlayan yaygın bir modelleme varsayımı, gürültünün $N=Y-f(X)$ ile yeniden oluşturulabildiği $Y:=f(X)+N$ biçimindeki eklemeli gürültü modelleridir. Şu anda karşıt olgusal tahmin için yalnızca sürekli verilerin desteklendiğini, müdahaleci örnekler üretmek için veri türünde herhangi bir kısıtlama olmadığını unutmayın."
   ]
  },
  {
   "cell_type": "markdown",
   "metadata": {},
   "source": [
    "Gürültünün buradaki rolünü daha da açıklığa kavuşturmak için, giriş bölümündeki yüksek kolesterol LDL seviyeleriyle ilgili örneğe geri dönelim. Egzersiz ve genetik gibi kolesterol seviyelerini etkileyebilecek birçok gözlemlenmemiş faktör olduğunu gördüğümüzde, şu soru ortaya çıkıyor: İlaç alsaydım, LDL seviyelerim düşer miydi? Bunu cevaplamak için, konuya özgü gözlemlenmemiş faktörleri (yani gürültüyü) sabit tuttuğumuz ve yalnızca varsayımsal olarak alınan ilaç miktarını değiştirdiğimiz müdahaleleri kullanabiliriz. Pratikte bu, önce gürültüyü yeniden yapılandırarak ve ardından ilaç miktarına müdahale ettikten sonra LDL seviyelerini tahmin etmek için bu belirli değeri kullanarak elde edilebilir. Burada, gürültü dağılımından rassal örnekleme yapmak yerine yeniden yapılandırılmış gürültü değerini kullanmak çok önemlidir. Aksi takdirde, ilacın kendisinden değil, tesadüfen düşük seviyelere neden olan üretilen gürültü değerinden dolayı LDL seviyelerinde bir azalma görülebilir. Modelleme varsayımlarının yaklaşık olarak doğru olduğunu varsayarak, ilacın karşıt olgusal senaryoda yardımcı olup olmayacağını analiz edebiliriz."
   ]
  },
  {
   "cell_type": "markdown",
   "metadata": {},
   "source": [
    "Tersine çevrilebilir mekanizmalar hakkında açıklama: Genellikle, $N$ açısından tersine çevrilebilir mekanizmalar nokta karşıt olguları tahmin etmemize izin verir. Ancak, bazı mekanizmaların tersine çevrilemez olmasına da izin vermek mümkündür. Ancak bu durumda, gözlemsel kanıtlara dayalı bir karşıt olgu dağılımı elde ederiz; bu, mutlaka nokta bazında olmayabilir."
   ]
  },
  {
   "cell_type": "markdown",
   "metadata": {},
   "source": [
    "# 5.Dağılım Dışı Girdiler için Çıktının Tahmin Edilmesi"
   ]
  },
  {
   "cell_type": "markdown",
   "metadata": {},
   "source": [
    "DoWhy tahmin algoritmalarını da destekler. Tüm özellikleri kullanan standart yapay öğrenme algoritmalarının aksine, DoWhy'daki tahmin algoritması tahmin için nedensel bir özellik gösterimi öğrenmeyi amaçlar. Gösterim, kullanıcı tarafından sağlanan yardımcı özelliklerin alan bilgisi kullanılarak öğrenilir."
   ]
  },
  {
   "cell_type": "code",
   "execution_count": null,
   "metadata": {},
   "outputs": [],
   "source": []
  },
  {
   "cell_type": "code",
   "execution_count": null,
   "metadata": {},
   "outputs": [],
   "source": []
  }
 ],
 "metadata": {
  "kernelspec": {
   "display_name": "base",
   "language": "python",
   "name": "python3"
  },
  "language_info": {
   "codemirror_mode": {
    "name": "ipython",
    "version": 3
   },
   "file_extension": ".py",
   "mimetype": "text/x-python",
   "name": "python",
   "nbconvert_exporter": "python",
   "pygments_lexer": "ipython3",
   "version": "3.11.5"
  }
 },
 "nbformat": 4,
 "nbformat_minor": 2
}
